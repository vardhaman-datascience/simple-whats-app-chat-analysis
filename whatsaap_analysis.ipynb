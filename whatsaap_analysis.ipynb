{
 "cells": [
  {
   "cell_type": "code",
   "execution_count": 7,
   "metadata": {},
   "outputs": [],
   "source": [
    "import seaborn as sns"
   ]
  },
  {
   "cell_type": "code",
   "execution_count": 8,
   "metadata": {},
   "outputs": [],
   "source": [
    "import matplotlib as plt"
   ]
  },
  {
   "cell_type": "code",
   "execution_count": 9,
   "metadata": {},
   "outputs": [],
   "source": [
    "import pandas as pd\n",
    "import numpy as np"
   ]
  },
  {
   "cell_type": "code",
   "execution_count": 10,
   "metadata": {},
   "outputs": [
    {
     "data": {
      "application/javascript": [
       "if (window.IPython && IPython.notebook.kernel) IPython.notebook.kernel.execute('jovian.utils.jupyter.get_notebook_name_saved = lambda: \"' + IPython.notebook.notebook_name + '\"')"
      ],
      "text/plain": [
       "<IPython.core.display.Javascript object>"
      ]
     },
     "metadata": {},
     "output_type": "display_data"
    }
   ],
   "source": [
    "import jovian"
   ]
  },
  {
   "cell_type": "code",
   "execution_count": 11,
   "metadata": {},
   "outputs": [],
   "source": [
    "from wordcloud import WordCloud, STOPWORDS"
   ]
  },
  {
   "cell_type": "code",
   "execution_count": 12,
   "metadata": {},
   "outputs": [],
   "source": [
    "from wordcloud import WordCloud, STOPWORDS"
   ]
  },
  {
   "cell_type": "code",
   "execution_count": 13,
   "metadata": {},
   "outputs": [],
   "source": [
    "import emoji \n",
    "from collections import Counter"
   ]
  },
  {
   "cell_type": "code",
   "execution_count": 14,
   "metadata": {},
   "outputs": [
    {
     "name": "stdout",
     "output_type": "stream",
     "text": [
      "Requirement already satisfied: jovian in c:\\anaconda\\lib\\site-packages (0.1.82)\n",
      "Requirement already satisfied: pyyaml in c:\\anaconda\\lib\\site-packages (from jovian) (5.1.1)\n",
      "Requirement already satisfied: requests in c:\\anaconda\\lib\\site-packages (from jovian) (2.22.0)\n",
      "Requirement already satisfied: uuid in c:\\anaconda\\lib\\site-packages (from jovian) (1.30)\n",
      "Requirement already satisfied: chardet<3.1.0,>=3.0.2 in c:\\anaconda\\lib\\site-packages (from requests->jovian) (3.0.4)\n",
      "Requirement already satisfied: idna<2.9,>=2.5 in c:\\anaconda\\lib\\site-packages (from requests->jovian) (2.8)\n",
      "Requirement already satisfied: urllib3!=1.25.0,!=1.25.1,<1.26,>=1.21.1 in c:\\anaconda\\lib\\site-packages (from requests->jovian) (1.24.2)\n",
      "Requirement already satisfied: certifi>=2017.4.17 in c:\\anaconda\\lib\\site-packages (from requests->jovian) (2019.6.16)\n"
     ]
    }
   ],
   "source": [
    "! pip install jovian\n",
    "\n"
   ]
  },
  {
   "cell_type": "code",
   "execution_count": null,
   "metadata": {},
   "outputs": [],
   "source": []
  },
  {
   "cell_type": "code",
   "execution_count": 15,
   "metadata": {},
   "outputs": [
    {
     "name": "stdout",
     "output_type": "stream",
     "text": [
      "Requirement already satisfied: wordcloud in c:\\anaconda\\lib\\site-packages (1.5.0)\n",
      "Requirement already satisfied: numpy>=1.6.1 in c:\\anaconda\\lib\\site-packages (from wordcloud) (1.16.4)\n",
      "Requirement already satisfied: pillow in c:\\anaconda\\lib\\site-packages (from wordcloud) (6.1.0)\n",
      "Note: you may need to restart the kernel to use updated packages.\n"
     ]
    }
   ],
   "source": [
    "pip install wordcloud\n"
   ]
  },
  {
   "cell_type": "code",
   "execution_count": 16,
   "metadata": {},
   "outputs": [
    {
     "name": "stdout",
     "output_type": "stream",
     "text": [
      "Requirement already satisfied: emoji in c:\\anaconda\\lib\\site-packages (0.5.4)\n",
      "Note: you may need to restart the kernel to use updated packages.\n"
     ]
    }
   ],
   "source": [
    "pip install emoji"
   ]
  },
  {
   "cell_type": "code",
   "execution_count": 18,
   "metadata": {},
   "outputs": [],
   "source": [
    "def rawToDf(file):\n",
    "    with open(file, 'r',encoding='UTF-8') as raw_data:\n",
    "        raw_string = ' '.join(raw_data.read().split('\\n')) # converting the list split by newline char. as one whole string as there can be multi-line messages\n",
    "        user_msg = re.split('\\d{1,2}/\\d{1,2}/\\d{2,4},\\s\\d{1,2}:\\d{2}\\s[APap][mM]\\s-\\s', raw_string) [1:] # splits at all the date-time pattern, resulting in list of all the messages with user names\n",
    "        date_time = re.findall('\\d{1,2}/\\d{1,2}/\\d{2,4},\\s\\d{1,2}:\\d{2}\\s[APap][mM]\\s-\\s', raw_string) # finds all the date-time patterns\n",
    "\n",
    "### APap-->12 hrs\n",
    "### d{1,2}-->1,2 are used for single and double digit dates\n",
    "###  \\s---> space\n",
    "\n",
    "        df = pd.DataFrame({'date_time': date_time, 'user_msg': user_msg}) # exporting it to a df\n",
    "   \n",
    "    # converting date-time pattern which is of type String to type datetime, format is to be specified for the whole string where the placeholders are extracted by the method    \n",
    "    try:\n",
    "        df['date_time'] = pd.to_datetime(df['date_time'], format='%m/%d/%y, %I:%M %p - ') #10/20/19, 10:24 pm - \n",
    "    except:\n",
    "        df['date_time'] = pd.to_datetime(df['date_time'], format='%d/%m/%Y, %I:%M %p - ') #20/10/2019, 10:24 pm -\n",
    "    \n",
    "    # split user and msg \n",
    "    usernames = []\n",
    "    msgs = []\n",
    "    for i in df['user_msg']:\n",
    "        a = re.split('([\\w\\W]+?):\\s', i) # lazy pattern match to first {user_name}: pattern and spliting it aka each msg from a user\n",
    "        if(a[1:]): # user typed messages\n",
    "            usernames.append(a[1])\n",
    "            msgs.append(a[2])\n",
    "        else: # other notifications in the group(eg: someone was added, some left ...)\n",
    "            usernames.append(\"grp_notif\")\n",
    "            msgs.append(a[0])\n",
    "\n",
    "    # creating new columns         \n",
    "    df['user'] = usernames\n",
    "    df['msg'] = msgs\n",
    "\n",
    "    # dropping the old user_msg col.\n",
    "    df.drop('user_msg', axis=1, inplace=True)\n",
    "    \n",
    "    return df"
   ]
  },
  {
   "cell_type": "code",
   "execution_count": 19,
   "metadata": {},
   "outputs": [],
   "source": [
    "f=open('pallavi_chat.txt',encoding='UTF-8')\n"
   ]
  },
  {
   "cell_type": "code",
   "execution_count": 20,
   "metadata": {},
   "outputs": [],
   "source": [
    "x=f.read()"
   ]
  },
  {
   "cell_type": "code",
   "execution_count": 21,
   "metadata": {},
   "outputs": [
    {
     "data": {
      "text/plain": [
       "\"10/7/18, 5:44 PM - Pes Pallavi: 😫😫😫😫😫\\n10/7/18, 8:24 PM - Pes Pallavi: Happy journey😊\\n10/7/18, 8:25 PM - Varun.Vardhaman: 😊\\n10/7/18, 8:25 PM - Varun.Vardhaman: Yen madatiri ?\\n10/7/18, 8:26 PM - Pes Pallavi: Watching tv ra\\n10/7/18, 8:26 PM - Pes Pallavi: On the way huh...!?!\\n10/7/18, 8:26 PM - Pes Pallavi: U ppl\\n10/8/18, 11:04 AM - Varun.Vardhaman: Reached mudhol at 10\\n10/8/18, 11:17 AM - Pes Pallavi: Ohhh supprrrrr👍🏻😊\\n10/11/18, 6:45 AM - Pes Pallavi: Good morning☀\\n10/11/18, 12:09 PM - Varun.Vardhaman: You deleted this message\\n10/11/18, 12:09 PM - Varun.Vardhaman: Good after noon\\n10/11/18, 8:04 PM - Varun.Vardhaman: All the best for new life\\n10/11/18, 9:32 PM - Pes Pallavi: Thank u😊\\n10/12/18, 12:50 PM - Varun.Vardhaman: Uta\\n10/12/18, 5:12 PM - Pes Pallavi: Aaythu\\n10/12/18, 5:12 PM - Pes Pallavi: Nimdhu...!?1\\n10/12/18, 7:03 PM - Varun.Vardhaman: <Media omitted>\\n10/12/18, 7:04 PM - Varun.Vardhaman: Today's after noons special\\n10/12/18, 7:04 PM - Pes Pallavi: Ohhh myyy godddd😱😫\\n10/12/18, 7:04 PM - Pes Pallavi: Looks sooo yummmm😋\\n10/12/18, 7:04 PM - Varun.Vardhaman: 😀\\n10/12/18, 7:05 PM - Pes Pallavi: Jhorrrr aithiiiiii\\n10/12/18, 7:05 PM - Varun.Vardhaman: Yen doing\\n10/12/18, 7:05 PM - Varun.Vardhaman: ?\\n10/12/18, 7:06 PM - Pes Pallavi: Searching my dip bookd\\n10/12/18, 7:06 PM - Pes Pallavi: books*\\n10/12/18, 7:07 PM - Pes Pallavi: U....!?!\\n10/12/18, 7:07 PM - Varun.Vardhaman: Just sitting with book\\n10/12/18, 7:07 PM - Pes Pallavi: 👍🏻😁\\n10/12/18, 7:07 PM - Pes Pallavi: Aunty yenn maad katthaara\\n10/12/18, 7:08 PM - Varun.Vardhaman: Avara fuction gi hogyara\\n10/12/18, 7:08 PM - Pes Pallavi: Ohhh Navratri spcl huh\\n10/12/18, 7:08 PM - Varun.Vardhaman: Hu\\n10/12/18, 7:08 PM - Pes Pallavi: Hmm ok\\n10/12/18, 7:09 PM - Varun.Vardhaman: Namma aunty yen madatar ?\\n10/12/18, 7:09 PM - Pes Pallavi: Feeling bored o wat..!?! Alone knw\\n10/12/18, 7:09 PM - Pes Pallavi: Watching TV\\n10/12/18, 7:09 PM - Varun.Vardhaman: Hu ra..\\n10/12/18, 7:09 PM - Pes Pallavi: Ayyoooo\\n10/12/18, 7:09 PM - Pes Pallavi: Tv noda\\n10/12/18, 7:09 PM - Varun.Vardhaman: Adu bore\\n10/12/18, 7:12 PM - Pes Pallavi: Correct\\n10/12/18, 7:14 PM - Varun.Vardhaman: Matta\\n10/12/18, 7:15 PM - Pes Pallavi: U say... Mudhol lyf henga aithiii\\n10/12/18, 7:15 PM - Varun.Vardhaman: As usual\\n10/12/18, 7:18 PM - Varun.Vardhaman: Ninda college days henga. Ada\\n10/12/18, 7:18 PM - Pes Pallavi: Boring\\n10/12/18, 7:18 PM - Varun.Vardhaman: yaka\\n10/12/18, 7:18 PM - Pes Pallavi: Clg boring ada\\n10/12/18, 7:19 PM - Varun.Vardhaman: 😀\\n10/12/18, 7:19 PM - Pes Pallavi: And Only 9 students\\n10/12/18, 7:19 PM - Pes Pallavi: 😬🤦🏼\\u200d♀\\n10/12/18, 7:19 PM - Varun.Vardhaman: 🤨\\n10/12/18, 7:19 PM - Varun.Vardhaman: How many boys?😀\\n10/12/18, 7:20 PM - Pes Pallavi: Only 2\\n10/12/18, 7:20 PM - Pes Pallavi: 😂😂😂\\n10/12/18, 7:20 PM - Varun.Vardhaman: 😄\\n10/12/18, 7:20 PM - Varun.Vardhaman: Thats why it is boring\\n10/12/18, 7:21 PM - Pes Pallavi: Ayya\\n10/12/18, 7:21 PM - Pes Pallavi: Clg itself is boring ra\\n10/12/18, 7:22 PM - Varun.Vardhaman: Hu\\n10/15/18, 8:02 PM - Varun.Vardhaman: Hi\\n10/15/18, 8:02 PM - Pes Pallavi: Hellooooo\\n10/15/18, 8:03 PM - Varun.Vardhaman: How are you?\\n10/15/18, 8:03 PM - Pes Pallavi: Yenn maad kattii\\n10/15/18, 8:03 PM - Pes Pallavi: M good... Hwa u\\n10/15/18, 8:03 PM - Varun.Vardhaman: <Media omitted>\\n10/15/18, 8:04 PM - Pes Pallavi: Ohhhh\\n10/15/18, 8:04 PM - Varun.Vardhaman: Niv yen madatiri?\\n10/15/18, 8:04 PM - Pes Pallavi: Jhorrrr aithiii\\n10/15/18, 8:05 PM - Varun.Vardhaman: Call maadli?\\n10/15/18, 8:06 PM - Pes Pallavi: Ayyo sure\\n10/15/18, 8:07 PM - Varun.Vardhaman: 164\\n10/15/18, 8:07 PM - Varun.Vardhaman: E number call maadli\\n10/15/18, 8:07 PM - Pes Pallavi: 819\\n10/15/18, 8:08 PM - Varun.Vardhaman: Send me full no\\n10/15/18, 8:09 PM - Pes Pallavi: 9740030819\\n10/22/18, 4:49 PM - Varun.Vardhaman: Hi\\n10/22/18, 7:01 PM - Pes Pallavi: Helloooo\\n10/22/18, 7:01 PM - Pes Pallavi: Hwa u\\n10/22/18, 7:06 PM - Varun.Vardhaman: Yen madam full busy?\\n10/22/18, 7:12 PM - Pes Pallavi: Ayyo\\n10/22/18, 7:12 PM - Pes Pallavi: Clg has got started knw...😴\\n10/22/18, 7:13 PM - Varun.Vardhaman: Oh\\n10/22/18, 7:26 PM - Pes Pallavi: Wat's gng on\\n10/22/18, 7:28 PM - Varun.Vardhaman: Answer writing\\n10/22/18, 7:29 PM - Varun.Vardhaman: You\\n10/22/18, 7:44 PM - Pes Pallavi: Ohhh suprrr👍🏻\\n10/22/18, 7:44 PM - Pes Pallavi: Studying\\n10/22/18, 7:46 PM - Pes Pallavi: Aunty yenn maad katthar\\n10/22/18, 7:46 PM - Varun.Vardhaman: Gitilla hall valaga TV nodkonth kuntirbek\\n10/22/18, 7:46 PM - Varun.Vardhaman: Adagi maadatar\\n10/22/18, 7:52 PM - Pes Pallavi: Ohhhh okiii👍🏻😁\\n10/22/18, 7:52 PM - Pes Pallavi: Matha yenn spcl\\n10/22/18, 7:52 PM - Varun.Vardhaman: Nothing\\n10/23/18, 12:06 PM - Varun.Vardhaman: Nimma jiju Chennai hogi bandru?\\n10/23/18, 5:15 PM - Pes Pallavi: Naale barrthaara\\n10/24/18, 9:22 AM - Varun.Vardhaman: Ekade yavag barud plan maadiri?\\n10/25/18, 11:20 PM - Pes Pallavi: Donno ra\\n10/25/18, 11:21 PM - Pes Pallavi: Jeeju's doddamma expire aadhra.. Soo he is not wid his family\\n10/25/18, 11:22 PM - Pes Pallavi: Bzy*\\n10/26/18, 12:43 AM - Varun.Vardhaman: So sad\\n10/26/18, 12:43 AM - Varun.Vardhaman: Okay\\n11/1/18, 10:42 AM - Varun.Vardhaman: Shwetag 1k haakini isko\\n11/1/18, 12:37 PM - Pes Pallavi: Huuu\\n11/2/18, 7:19 PM - Varun.Vardhaman: Nale yshta ganteg aadru baa andru but uta maadkonda hogbekanta\\n11/2/18, 7:31 PM - Varun.Vardhaman: Oye\\n11/2/18, 7:31 PM - Varun.Vardhaman: You come at any time\\n11/2/18, 7:32 PM - Varun.Vardhaman: I I'll be there in the morning\\n11/2/18, 7:52 PM - Pes Pallavi: Ok done👍🏻\\n11/2/18, 8:45 PM - Varun.Vardhaman: Come at around 10- 11\\n11/2/18, 9:10 PM - Pes Pallavi: Ok ra👍🏻\\n11/3/18, 8:15 AM - Varun.Vardhaman: Just text me when you leave\\n11/3/18, 8:18 AM - Pes Pallavi: Wil leave around 12 ra, I have classes soo\\n11/3/18, 8:34 AM - Varun.Vardhaman: So late\\n11/3/18, 8:34 AM - Varun.Vardhaman: 12 ka jaga bittra uta late agatta\\n11/3/18, 8:36 AM - Varun.Vardhaman: Jaldi jaga bidri\\n11/3/18, 8:49 AM - Pes Pallavi: Class adaava adakka\\n11/3/18, 8:49 AM - Pes Pallavi: Tip 12:15\\n11/3/18, 8:49 AM - Pes Pallavi: Til*\\n11/3/18, 10:16 AM - Varun.Vardhaman: Erali bunk maadi baa\\n11/3/18, 10:16 AM - Varun.Vardhaman: Yellarnu karkonda baa\\n11/3/18, 10:17 AM - Pes Pallavi: Huuu\\n11/3/18, 12:12 PM - Varun.Vardhaman: Text me when you leave\\n11/3/18, 12:42 PM - Pes Pallavi: Swalpa late aagattha\\n11/3/18, 12:42 PM - Pes Pallavi: I ll cm evng only\\n11/3/18, 12:57 PM - Varun.Vardhaman: Le\\n11/3/18, 12:57 PM - Varun.Vardhaman: Mummy yella uta tayar maadi ittara\\n11/3/18, 12:58 PM - Varun.Vardhaman: Jaldi barri\\n11/3/18, 1:21 PM - Pes Pallavi: Ayyoooo\\n11/3/18, 1:22 PM - Pes Pallavi: Swalpa urgent work bandethiii ra... Soo getting late\\n11/3/18, 1:24 PM - Varun.Vardhaman: Okay\\n11/3/18, 1:25 PM - Varun.Vardhaman: Yeshta late adru barri\\n11/3/18, 2:23 PM - Pes Pallavi: Text u while leaving\\n11/3/18, 2:23 PM - Varun.Vardhaman: Done with your work?\\n11/3/18, 2:26 PM - Pes Pallavi: Til 4😬\\n11/3/18, 2:27 PM - Varun.Vardhaman: 🤨\\n11/3/18, 2:27 PM - Varun.Vardhaman: Okay\\n11/4/18, 12:11 AM - Varun.Vardhaman: Good night\\n11/4/18, 12:55 AM - Pes Pallavi: Thank u so much ra😊\\n11/4/18, 12:55 AM - Pes Pallavi: Good nyte🎊\\n11/6/18, 3:41 PM - Varun.Vardhaman: Hi\\n11/6/18, 4:04 PM - Pes Pallavi: Hellooo\\n11/6/18, 4:04 PM - Pes Pallavi: Yenn maad katthiirii\\n11/6/18, 4:04 PM - Varun.Vardhaman: <Media omitted>\\n11/6/18, 4:05 PM - Varun.Vardhaman: Maps\\n11/6/18, 4:05 PM - Varun.Vardhaman: Nivu?\\n11/6/18, 4:05 PM - Pes Pallavi: Ohhh okiii carry on carry on\\n11/6/18, 4:05 PM - Pes Pallavi: Having food nw\\n11/6/18, 4:05 PM - Varun.Vardhaman: Late\\n11/6/18, 4:05 PM - Varun.Vardhaman: ?\\n11/6/18, 4:05 PM - Pes Pallavi: Holiday knw so got late\\n11/6/18, 4:05 PM - Varun.Vardhaman: Yeshta divasa Holiday?\\n11/6/18, 4:06 PM - Pes Pallavi: Today n Thursday\\n11/6/18, 4:06 PM - Varun.Vardhaman: Oh\\n11/6/18, 4:09 PM - Pes Pallavi: Aunty yenn maad katthaarrr\\n11/6/18, 4:09 PM - Varun.Vardhaman: Phone valaga matadatar\\n11/6/18, 4:10 PM - Pes Pallavi: Ohh okiiiii\\n11/6/18, 4:11 PM - Varun.Vardhaman: Matta jiju akka yen maadatar?\\n11/6/18, 4:44 PM - Pes Pallavi: Avarr jeeju maniiga hogyaara\\n11/6/18, 4:44 PM - Varun.Vardhaman: Oh\\n11/6/18, 4:45 PM - Pes Pallavi: Neeva monday hontiiriii alaa\\n11/6/18, 4:46 PM - Varun.Vardhaman: Yup\\n11/6/18, 4:50 PM - Pes Pallavi: Okiiii\\n11/7/18, 3:29 PM - Varun.Vardhaman: Trip postponed to day after tomorrow\\n11/7/18, 3:51 PM - Pes Pallavi: Ohhh I can't vardha... V might go to our native place...\\n11/7/18, 5:50 PM - Varun.Vardhaman: Hu\\n11/7/18, 5:50 PM - Varun.Vardhaman: Pappa trip cancel maadidra\\n11/7/18, 6:13 PM - Pes Pallavi: Cool👍🏻\\n11/14/18, 8:28 PM - Varun.Vardhaman: Birthday Mr upsc\\n11/14/18, 8:29 PM - Varun.Vardhaman: Nale right?\\n11/14/18, 8:51 PM - Varun.Vardhaman: Hey bank details send maad nimma jijuda\\n11/14/18, 9:51 PM - Pes Pallavi: Yup\\n11/14/18, 9:52 PM - Pes Pallavi: This message was deleted\\n11/14/18, 9:53 PM - Pes Pallavi: HDFC BANK ACCOUNT NO - 03611050012985. Branch : basaveshwar nagar bangalore 560079 Name : Anand Rakkasagi\\n11/14/18, 9:53 PM - Varun.Vardhaman: Okay\\n11/14/18, 9:54 PM - Pes Pallavi: Did u reach safely...!?!\\n11/14/18, 9:54 PM - Varun.Vardhaman: Yup yen madatiri?\\n11/14/18, 9:55 PM - Pes Pallavi: Oota\\n11/14/18, 9:55 PM - Pes Pallavi: Neena...!?!\\n11/14/18, 9:55 PM - Varun.Vardhaman: Reading\\n11/14/18, 10:05 PM - Pes Pallavi: Ok carry on carry on\\n11/14/18, 10:06 PM - Pes Pallavi: Good nyte🙂\\n11/14/18, 10:06 PM - Varun.Vardhaman: Good nyt\\n11/16/18, 11:20 AM - Varun.Vardhaman: Hey mallikarjun bro received gift itseems thank a lot it seems\\n11/16/18, 11:21 AM - Pes Pallavi: Wat\\n11/16/18, 11:21 AM - Varun.Vardhaman: Han\\n11/16/18, 11:22 AM - Pes Pallavi: M nt getting u vardha\\n11/16/18, 11:22 AM - Varun.Vardhaman: Come to telegram\\n11/16/18, 11:22 AM - Pes Pallavi: M in class nw...\\nPing u at evng vardha..\\n11/16/18, 11:23 AM - Pes Pallavi: Ok... Evng text maadtheniii... Classs naaga adhinii sooo\\n11/16/18, 11:23 AM - Varun.Vardhaman: Hu\\n11/16/18, 11:23 AM - Pes Pallavi: Bye tc\\n11/16/18, 11:24 AM - Varun.Vardhaman: <Media omitted>\\n11/16/18, 11:25 AM - Pes Pallavi: This message was deleted\\n11/16/18, 11:36 AM - Varun.Vardhaman: He said you sent it\\n11/16/18, 11:51 AM - Pes Pallavi: Ok\\n11/17/18, 10:21 AM - Varun.Vardhaman: https://dataentrypoint.com/?gclid=CjwKCAiA8rnfBRB3EiwAhrhBGp_oqdcGFXflfrTj5Nt8XNIIJKSc3cvQIh2PeADsdfK66U0CchL7kxoCcH0QAvD_BwE#1530681149385-cb6ec0a8-0adc\\n11/17/18, 10:22 AM - Varun.Vardhaman: <Media omitted>\\n11/17/18, 10:22 AM - Varun.Vardhaman: <Media omitted>\\n11/17/18, 10:22 AM - Varun.Vardhaman: <Media omitted>\\n11/17/18, 10:22 AM - Varun.Vardhaman: <Media omitted>\\n11/17/18, 10:22 AM - Varun.Vardhaman: <Media omitted>\\n11/17/18, 10:22 AM - Varun.Vardhaman: <Media omitted>\\n11/17/18, 10:22 AM - Varun.Vardhaman: <Media omitted>\\n11/17/18, 10:43 AM - Varun.Vardhaman: This is genuine company\\n11/17/18, 10:51 AM - Pes Pallavi: Ok ra👍🏻\\n11/17/18, 10:52 AM - Varun.Vardhaman: You need to register with company first\\n11/17/18, 10:53 AM - Pes Pallavi: Ok\\n11/17/18, 10:55 AM - Pes Pallavi: <Media omitted>\\n11/17/18, 10:55 AM - Varun.Vardhaman: Yup\\n11/17/18, 10:56 AM - Pes Pallavi: Shall I fill out...!?!\\n11/17/18, 10:56 AM - Varun.Vardhaman: After registration you I'll get mail\\n11/17/18, 10:56 AM - Varun.Vardhaman: To pay registration fee\\n11/17/18, 10:56 AM - Pes Pallavi: Ok ok\\n11/17/18, 10:57 AM - Varun.Vardhaman: Fill the name as there in your bank account\\n11/17/18, 11:05 AM - Pes Pallavi: Registration fees 650/- ryte\\n11/17/18, 11:06 AM - Varun.Vardhaman: Yup\\n11/17/18, 11:06 AM - Pes Pallavi: Ok\\n11/17/18, 11:09 AM - Pes Pallavi: I paid..\\n11/17/18, 11:09 AM - Pes Pallavi: Next...!?!\\n11/17/18, 11:09 AM - Varun.Vardhaman: Send the screenshot of payment details to that email id\\n11/17/18, 11:10 AM - Pes Pallavi: Ok\\n11/17/18, 11:10 AM - Varun.Vardhaman: Through your registerd email Id\\n11/17/18, 11:10 AM - Pes Pallavi: Send me dat mail id\\n11/17/18, 11:11 AM - Varun.Vardhaman: team@dataentrypoint.com\\n11/17/18, 11:12 AM - Varun.Vardhaman: Mention name mobile no address in the mail\\n11/17/18, 11:16 AM - Pes Pallavi: Done\\n11/17/18, 11:16 AM - Pes Pallavi: Next...!?!\\n11/17/18, 11:17 AM - Varun.Vardhaman: They ill send you the login details\\n11/17/18, 12:42 PM - Varun.Vardhaman: Got log in details?\\n11/17/18, 2:56 PM - Pes Pallavi: Nooo\\n11/17/18, 2:56 PM - Pes Pallavi: Nt yt\\n11/17/18, 3:32 PM - Varun.Vardhaman: Nanga pyament details screen shot kalasa\\n11/17/18, 3:42 PM - Pes Pallavi: <Media omitted>\\n11/17/18, 10:31 PM - Pes Pallavi: <Media omitted>\\n11/18/18, 10:25 AM - Varun.Vardhaman: Forward complete mail..\\n11/18/18, 10:25 AM - Varun.Vardhaman: To me\\n11/18/18, 10:25 AM - Varun.Vardhaman: vardhamanrp777@gmail.com\\n11/18/18, 10:26 AM - Pes Pallavi: Ok\\n11/18/18, 10:30 AM - Varun.Vardhaman: https://youtu.be/5QHBj4brHNM\\n11/18/18, 10:30 AM - Pes Pallavi: Did u get mail\\n11/18/18, 10:31 AM - Varun.Vardhaman: Yup I am reading\\n11/18/18, 10:34 AM - Varun.Vardhaman: <Media omitted>\\n11/18/18, 10:35 AM - Varun.Vardhaman: Hello\\n11/18/18, 10:35 AM - Varun.Vardhaman: Did u download the software?\\n11/18/18, 10:35 AM - Pes Pallavi: Downloaded\\n11/18/18, 10:35 AM - Pes Pallavi: But nt getting it\\n11/18/18, 10:38 AM - Varun.Vardhaman: Did you install that?\\n11/18/18, 10:41 AM - Varun.Vardhaman: Download in the laptop\\n11/18/18, 10:42 AM - Varun.Vardhaman: And go to download and install it\\n11/18/18, 10:52 AM - Pes Pallavi: Ok\\n11/18/18, 10:54 AM - Varun.Vardhaman: https://www.youtube.com/playlist?list=PLS1QulWo1RIahlYDqHWZb81qsKgEvPiHn\\n11/18/18, 10:54 AM - Varun.Vardhaman: Watch these first\\n11/18/18, 10:56 AM - Pes Pallavi: Ok ok\\n11/25/18, 5:04 PM - Varun.Vardhaman: Hi, Sammed Parappanavar has shared a job with you on QuikrJobs for Data Entry /Back Office ( sal.70000 )\\n\\nCheck details here: http://www.quikr.com/vap/jobs/SH0QQAdIdZ314652033?utm_source=Aapp&utm_medium=js\\n\\nDownload free Quikr App:  http://play.google.com/store/apps/details?id=com.quikr\\n11/25/18, 5:11 PM - Varun.Vardhaman: Hi, Sammed Parappanavar has shared a job with you on QuikrJobs for Data Entry /Back Office ( sal.28000 )\\n\\nCheck details here: http://www.quikr.com/vap/jobs/SH0QQAdIdZ314654908?utm_source=Aapp&utm_medium=js\\n\\nDownload free Quikr App:  http://play.google.com/store/apps/details?id=com.quikr\\n11/25/18, 5:53 PM - Pes Pallavi: Nee maada katthiii...!?!\\n11/25/18, 7:03 PM - Varun.Vardhaman: Illa\\n11/25/18, 7:04 PM - Varun.Vardhaman: Adu quicker account namma cousin annada adirinda Ava share maadidda andana na ninga forward maadide\\n11/25/18, 9:16 PM - Pes Pallavi: Ohh okiii😊\\n11/25/18, 10:37 PM - Varun.Vardhaman: Goodnight😊\\n11/25/18, 11:18 PM - Pes Pallavi: Good nyte🎊\\n11/27/18, 12:54 PM - Varun.Vardhaman: https://youtu.be/8uuIX5JGIhc\\n11/27/18, 4:48 PM - Pes Pallavi: 🤩🤩👌🏻👌🏻👌🏻\\n11/27/18, 4:49 PM - Varun.Vardhaman: 😊\\n11/29/18, 5:02 PM - Varun.Vardhaman: <Media omitted>\\n11/29/18, 8:38 PM - Pes Pallavi: Dats true\\n11/30/18, 3:59 PM - Varun.Vardhaman: <Media omitted>\\n11/30/18, 4:03 PM - Varun.Vardhaman: Excise sub inspector\\n11/30/18, 5:06 PM - Varun.Vardhaman: Ladies quota Ada nod apply maadu\\n11/30/18, 5:45 PM - Pes Pallavi: Done👍🏻\\n11/30/18, 6:35 PM - Varun.Vardhaman: You deleted this message\\n12/1/18, 2:26 PM - Varun.Vardhaman: Hey is everything okay?\\n12/1/18, 4:52 PM - Pes Pallavi: Yess👍🏻\\n12/2/18, 1:32 PM - Varun.Vardhaman: Hi\\n12/2/18, 1:32 PM - Varun.Vardhaman: Blr gi yavaga barati?\\n12/2/18, 9:49 PM - Pes Pallavi: Hello\\n12/2/18, 9:49 PM - Pes Pallavi: On 13th ra\\n12/2/18, 9:50 PM - Varun.Vardhaman: Okay\\n12/2/18, 9:50 PM - Varun.Vardhaman: I am planning bring car from mudhol\\n12/2/18, 9:50 PM - Pes Pallavi: Wen\\n12/2/18, 9:50 PM - Varun.Vardhaman: Not yet decided\\n12/2/18, 9:50 PM - Pes Pallavi: Y😁\\n12/2/18, 9:51 PM - Varun.Vardhaman: Bag bhaal aadav maraya🤦\\u200d♂\\n12/2/18, 9:51 PM - Pes Pallavi: Hahahahaha ok\\n12/2/18, 9:52 PM - Varun.Vardhaman: Isht hotta yelli hogiddi?\\n12/2/18, 9:52 PM - Varun.Vardhaman: Full busy?\\n12/2/18, 9:54 PM - Pes Pallavi: Phone prblm😓\\n12/2/18, 9:54 PM - Varun.Vardhaman: 🤦\\u200d♂\\n12/2/18, 9:54 PM - Varun.Vardhaman: I phone\\n12/2/18, 9:55 PM - Pes Pallavi: Nooo\\n12/2/18, 9:55 PM - Pes Pallavi: My moto\\n12/2/18, 9:55 PM - Varun.Vardhaman: Okay\\n12/2/18, 9:55 PM - Varun.Vardhaman: Uta?\\n12/2/18, 9:55 PM - Pes Pallavi: Maadbeku\\n12/2/18, 9:55 PM - Pes Pallavi: Nindhu\\n12/2/18, 9:55 PM - Varun.Vardhaman: SI apply maadidi?\\n12/2/18, 9:55 PM - Varun.Vardhaman: Ata\\n12/2/18, 9:56 PM - Pes Pallavi: I ll do it tommo\\n12/2/18, 9:56 PM - Varun.Vardhaman: Hu\\n12/2/18, 9:57 PM - Varun.Vardhaman: Shwetag ninna jote maatad bekanta nod\\n12/2/18, 9:57 PM - Pes Pallavi: Yedakkk\\n12/2/18, 9:57 PM - Pes Pallavi: Wat happnd\\n12/2/18, 9:57 PM - Varun.Vardhaman: Mani bagge\\n12/2/18, 9:58 PM - Pes Pallavi: Ohhh ok..\\n12/2/18, 9:58 PM - Pes Pallavi: I ll talk to her tommo\\n12/2/18, 9:58 PM - Varun.Vardhaman: Okay\\n12/5/18, 11:50 PM - Varun.Vardhaman: <Media omitted>\\n12/6/18, 7:09 AM - Pes Pallavi: Ayyooo... Whyyy\\n12/6/18, 7:11 AM - Pes Pallavi: Wat happnd ra\\n12/6/18, 10:46 AM - Varun.Vardhaman: Bored\\n12/6/18, 11:23 AM - Varun.Vardhaman: Odi odi sakayita\\n12/6/18, 11:24 AM - Varun.Vardhaman: Next month exam irabekgitta\\n12/6/18, 11:25 AM - Pes Pallavi: Ayyoooo\\n12/6/18, 11:25 AM - Pes Pallavi: Yaaa knw\\n12/6/18, 11:26 AM - Varun.Vardhaman: Hmm\\n12/6/18, 11:38 AM - Pes Pallavi: Wata u dng...!?!\\n12/6/18, 11:39 AM - Varun.Vardhaman: Just sitting\\n12/6/18, 11:39 AM - Varun.Vardhaman: Wat abt u?\\n12/6/18, 11:41 AM - Pes Pallavi: In classs ra🤦🏼\\u200d♀\\n12/6/18, 11:41 AM - Varun.Vardhaman: Oh\\n12/6/18, 4:13 PM - Pes Pallavi: <Media omitted>\\n12/6/18, 4:27 PM - Varun.Vardhaman: 😊👍💪\\n12/6/18, 4:33 PM - Pes Pallavi: 😊\\n12/6/18, 6:25 PM - Varun.Vardhaman: 13th baratila pakka?\\n12/6/18, 9:36 PM - Pes Pallavi: Nt sure...🤦🏼\\u200d♀\\n12/6/18, 9:36 PM - Pes Pallavi: Y\\n12/6/18, 9:38 PM - Varun.Vardhaman: Illa kelide\\n12/6/18, 9:39 PM - Varun.Vardhaman: Nav mudhol ga hogud plan maadbek adakka.\\n12/6/18, 9:40 PM - Pes Pallavi: Nt sure... Don't consider it..\\n12/6/18, 9:40 PM - Pes Pallavi: Clg aithiii... Soo mostly can't cm\\n12/6/18, 9:41 PM - Varun.Vardhaman: Hu ok fine\\n12/6/18, 10:01 PM - Pes Pallavi: Yenn maad katthiiriii\\n12/6/18, 10:02 PM - Varun.Vardhaman: Uta maadakativri neev yen madatiri?\\n12/6/18, 10:02 PM - Pes Pallavi: Writing assignment\\n12/6/18, 10:03 PM - Varun.Vardhaman: 🤦\\u200d♂\\n12/6/18, 10:04 PM - Varun.Vardhaman: Most hated task of me in engineering\\n12/6/18, 10:26 PM - Pes Pallavi: I hate it toooooo😴\\n12/7/18, 11:12 PM - Pes Pallavi: Oyyy ra\\n12/7/18, 11:12 PM - Pes Pallavi: If u get free time means\\n12/7/18, 11:13 PM - Pes Pallavi: Check dat dataentry  work and let me know ra\\n12/8/18, 11:41 AM - Varun.Vardhaman: Okay\\n12/8/18, 12:10 PM - Varun.Vardhaman: <Media omitted>\\n12/8/18, 12:16 PM - Varun.Vardhaman: <Media omitted>\\n12/8/18, 12:17 PM - Varun.Vardhaman: Hey idakka apply maadi nodu first\\n12/8/18, 12:18 PM - Varun.Vardhaman: <Media omitted>\\n12/8/18, 12:44 PM - Pes Pallavi: Wat abt dat 1 I have registered b4\\n12/8/18, 12:48 PM - Pes Pallavi: U only all procedure, I ll do work...\\n12/8/18, 2:21 PM - Varun.Vardhaman: I ill\\n12/8/18, 2:26 PM - Pes Pallavi: Goooood boy\\n12/8/18, 2:27 PM - Varun.Vardhaman: They I'll resend very late\\n12/8/18, 2:27 PM - Varun.Vardhaman: Many people  joined that\\n12/8/18, 2:27 PM - Pes Pallavi: I didn't get\\n12/8/18, 2:27 PM - Varun.Vardhaman: *respond\\n12/8/18, 2:28 PM - Pes Pallavi: Y\\n12/8/18, 2:28 PM - Varun.Vardhaman: .\\n12/8/18, 2:29 PM - Varun.Vardhaman: Send me log in id passwords\\n12/8/18, 2:38 PM - Pes Pallavi: U only set it and give me details\\n12/8/18, 2:39 PM - Varun.Vardhaman: Tell me otp\\n12/8/18, 2:40 PM - Pes Pallavi: Ok\\n12/8/18, 2:40 PM - Varun.Vardhaman: Tell me\\n12/8/18, 2:41 PM - Pes Pallavi: 7968\\n12/8/18, 2:44 PM - Varun.Vardhaman: You may get a call\\n12/8/18, 2:44 PM - Pes Pallavi: Ok\\n12/8/18, 2:44 PM - Pes Pallavi: I ll let u knw once I get call\\n12/8/18, 2:45 PM - Varun.Vardhaman: Okay\\n12/8/18, 2:45 PM - Pes Pallavi: Done\\n12/8/18, 3:01 PM - Pes Pallavi: Wat's next\\n12/8/18, 3:01 PM - Pes Pallavi: !?!\\n12/8/18, 3:07 PM - Varun.Vardhaman: Got a call?\\n12/8/18, 3:08 PM - Pes Pallavi: Huuu\\n12/8/18, 3:08 PM - Varun.Vardhaman: vardhaman.varun.jain@gmail.com\\n12/8/18, 3:08 PM - Pes Pallavi: She juss said lyk, yenara queries yidhra call maad andhla asshta\\n12/8/18, 3:08 PM - Varun.Vardhaman: varunvrushaab\\n12/8/18, 3:09 PM - Varun.Vardhaman: Log in maad ninna phone valaga\\n12/8/18, 3:09 PM - Varun.Vardhaman: Shilpa tiwari?\\n12/8/18, 3:10 PM - Pes Pallavi: Sama\\n12/8/18, 3:11 PM - Varun.Vardhaman: Ask her registration fee is There or not\\n12/8/18, 3:11 PM - Pes Pallavi: Ok\\n12/8/18, 3:20 PM - Varun.Vardhaman: Tell if there is registration fee than I don't work\\n12/8/18, 3:57 PM - Pes Pallavi: It's der\\n12/8/18, 3:57 PM - Pes Pallavi: In mail\\n12/8/18, 3:57 PM - Pes Pallavi: Check once\\n12/8/18, 3:58 PM - Pes Pallavi: <Media omitted>\\n12/8/18, 4:18 PM - Varun.Vardhaman: Than leave\\n12/8/18, 4:18 PM - Varun.Vardhaman: Don't pay any registration fee\\n12/8/18, 4:20 PM - Pes Pallavi: Ok\\n12/8/18, 8:14 PM - Pes Pallavi: Check and tell me ra..\\n12/8/18, 8:25 PM - Varun.Vardhaman: Yeah\\n12/13/18, 10:18 AM - Pes Pallavi: Mudhol shift aadhriii...!?!\\n12/13/18, 10:54 AM - Varun.Vardhaman: Yup\\n12/13/18, 10:54 AM - Varun.Vardhaman: Yesterday\\n12/13/18, 10:54 AM - Varun.Vardhaman: Morning\\n12/13/18, 1:32 PM - Varun.Vardhaman: <Media omitted>\\n12/13/18, 2:22 PM - Pes Pallavi: Ohhh suprrr\\n12/13/18, 2:39 PM - Varun.Vardhaman: Uta?\\n12/13/18, 8:55 PM - Pes Pallavi: Maadbekk eega🙁\\n12/13/18, 9:32 PM - Varun.Vardhaman: Maadi maadi\\n12/13/18, 9:33 PM - Varun.Vardhaman: Dp super😍 😘\\n12/13/18, 9:50 PM - Pes Pallavi: Thank you Mr.Insight😁\\n12/13/18, 10:04 PM - Varun.Vardhaman: Mr Insight 🤨\\n12/13/18, 10:20 PM - Pes Pallavi: Yesss\\n12/13/18, 10:21 PM - Varun.Vardhaman: I left insights\\n12/13/18, 10:26 PM - Pes Pallavi: U aa still member of insight\\n12/13/18, 10:27 PM - Varun.Vardhaman: 😊\\n12/13/18, 10:28 PM - Pes Pallavi: Dinner...!?!\\n12/13/18, 10:28 PM - Varun.Vardhaman: Done\\n12/13/18, 10:28 PM - Varun.Vardhaman: You deleted this message\\n12/13/18, 10:29 PM - Varun.Vardhaman: URS?\\n12/13/18, 10:29 PM - Pes Pallavi: Had ra\\n12/13/18, 10:29 PM - Pes Pallavi: Wat's spcl\\n12/13/18, 10:29 PM - Varun.Vardhaman: Nothing as usual\\n12/13/18, 10:30 PM - Pes Pallavi: Hmmm finally blore ga good bye helidriii alaa...!?!\\n12/13/18, 10:30 PM - Varun.Vardhaman: Ila avaga avaga hogtirtini\\n12/13/18, 10:30 PM - Pes Pallavi: Good very good\\n12/13/18, 10:30 PM - Pes Pallavi: Wer do u stay der\\n12/13/18, 10:31 PM - Varun.Vardhaman: Same home\\n12/13/18, 10:31 PM - Pes Pallavi: Suupprrrr\\n12/13/18, 10:31 PM - Pes Pallavi: 👍🏻😁\\n12/13/18, 10:31 PM - Varun.Vardhaman: 😀\\n12/13/18, 10:31 PM - Pes Pallavi: Den wassssup\\n12/13/18, 10:32 PM - Varun.Vardhaman: Applied SI?\\n12/13/18, 10:32 PM - Pes Pallavi: Nooo\\n12/13/18, 10:32 PM - Varun.Vardhaman: Na evatta apply maadade\\n12/13/18, 10:32 PM - Pes Pallavi: Goood boy\\n12/13/18, 10:33 PM - Varun.Vardhaman: Belagavi ge hogi exam baribeku\\n12/13/18, 10:39 PM - Pes Pallavi: Yaaa I saw..\\n12/13/18, 10:39 PM - Pes Pallavi: I ll nt apply...\\n12/14/18, 12:49 AM - Varun.Vardhaman: Y?\\n12/14/18, 8:01 AM - Varun.Vardhaman: Any way good morning..\\n12/14/18, 8:49 AM - Pes Pallavi: Very good morning\\n12/14/18, 11:30 AM - Varun.Vardhaman: Y?\\n12/14/18, 11:31 AM - Pes Pallavi: Hanga\\n12/14/18, 11:31 AM - Varun.Vardhaman: 🙄\\n12/14/18, 11:32 AM - Pes Pallavi: Yenn maadliii ra...😓🤦🏼\\u200d♀ \\nTired of dis lyf\\n12/14/18, 11:33 AM - Varun.Vardhaman: 🤦\\u200d♂\\n12/14/18, 11:33 AM - Varun.Vardhaman: Adakka exam bariyalla\\n12/14/18, 11:38 AM - Varun.Vardhaman: Aa examge first of all hudigir jasti adakka apply maadalla 2A reservation plus mahila reservation\\n12/14/18, 12:12 PM - Varun.Vardhaman: <Media omitted>\\n12/14/18, 12:12 PM - Varun.Vardhaman: Salary up to 50k per month\\n12/14/18, 12:12 PM - Varun.Vardhaman: <Media omitted>\\n12/14/18, 12:38 PM - Pes Pallavi: Starting salary only 50k huh...!?!\\n12/14/18, 12:39 PM - Varun.Vardhaman: 25-50\\n12/14/18, 12:45 PM - Pes Pallavi: Ohhkiii\\n12/19/18, 5:45 PM - Varun.Vardhaman: Called?\\n12/19/18, 6:18 PM - Varun.Vardhaman: .\\n12/19/18, 6:18 PM - Varun.Vardhaman: <Media omitted>\\n12/20/18, 9:08 PM - Varun.Vardhaman: Good night..\\n12/20/18, 9:10 PM - Pes Pallavi: Good nyte 🎊\\n12/20/18, 9:11 PM - Varun.Vardhaman: Uta?\\n12/20/18, 9:47 PM - Pes Pallavi: Maadbekk ra\\n12/20/18, 9:47 PM - Pes Pallavi: Urs\\n12/20/18, 9:47 PM - Varun.Vardhaman: Nanu maadbekk ri\\n12/20/18, 9:47 PM - Varun.Vardhaman: *ra\\n12/20/18, 9:48 PM - Pes Pallavi: Wat's spcl\\n12/20/18, 9:48 PM - Varun.Vardhaman: Chapati palya ragi ganji\\n12/20/18, 9:48 PM - Pes Pallavi: Ohhhh yummm👍🏻\\n12/20/18, 9:49 PM - Varun.Vardhaman: Nimdu?\\n12/20/18, 9:49 PM - Pes Pallavi: Chapati palya\\n12/20/18, 9:49 PM - Varun.Vardhaman: Yen doing?\\n12/20/18, 9:49 PM - Pes Pallavi: Completing notes ra\\n12/20/18, 9:50 PM - Varun.Vardhaman: Good\\n12/20/18, 9:52 PM - Pes Pallavi: Hmmm🤦🏼\\u200d♀\\n12/21/18, 7:34 PM - Varun.Vardhaman: Pallz\\n12/21/18, 7:35 PM - Pes Pallavi: Hellooo\\n12/21/18, 7:35 PM - Pes Pallavi: Yenn maad kattiiriii\\n12/21/18, 7:35 PM - Varun.Vardhaman: Kuntivri haage..\\n12/21/18, 7:35 PM - Varun.Vardhaman: Nivu?\\n12/21/18, 7:36 PM - Pes Pallavi: Naavu summ kunthiviii nod\\n12/21/18, 9:04 PM - Pes Pallavi: Had dinner...!?!\\n12/21/18, 9:17 PM - Varun.Vardhaman: Just now Wt abt u?\\n12/21/18, 9:32 PM - Pes Pallavi: Had\\n12/21/18, 9:39 PM - Varun.Vardhaman: Bore agatada\\n12/21/18, 9:41 PM - Pes Pallavi: Same here siikkkaaapatte🤦🏼\\u200d♀\\n12/21/18, 9:42 PM - Varun.Vardhaman: Who are your those two friends who are nice at back and front?\\n12/21/18, 9:43 PM - Pes Pallavi: In general haakenii\\n12/21/18, 9:55 PM - Varun.Vardhaman: Oh\\n12/21/18, 10:29 PM - Varun.Vardhaman: <Media omitted>\\n12/21/18, 10:44 PM - Pes Pallavi: Good nyte ra🎊\\n12/22/18, 10:31 PM - Varun.Vardhaman: Hello\\n12/22/18, 10:31 PM - Pes Pallavi: Hiii ra\\n12/22/18, 10:31 PM - Pes Pallavi: Wata u dng\\n12/22/18, 10:32 PM - Varun.Vardhaman: Just sitting\\n12/22/18, 10:32 PM - Pes Pallavi: Studying huh...!?!\\n12/22/18, 10:32 PM - Varun.Vardhaman: Was\\n12/22/18, 10:33 PM - Varun.Vardhaman: Wt u dng?\\n12/22/18, 10:33 PM - Pes Pallavi: Studying\\n12/22/18, 10:33 PM - Varun.Vardhaman: Oh second internal?\\n12/22/18, 10:34 PM - Pes Pallavi: Huuu\\n12/22/18, 10:34 PM - Pes Pallavi: Oota...!?!\\n12/22/18, 10:34 PM - Varun.Vardhaman: Ena illa\\n12/22/18, 10:34 PM - Varun.Vardhaman: Nimdu?\\n12/22/18, 10:34 PM - Pes Pallavi: Y so late\\n12/22/18, 10:34 PM - Varun.Vardhaman: Hasu illa\\n12/22/18, 10:35 PM - Pes Pallavi: Aageth ra... It's already 10:30\\n12/22/18, 10:35 PM - Varun.Vardhaman: Ok study\\n12/22/18, 10:36 PM - Pes Pallavi: Huuu\\n12/22/18, 10:36 PM - Pes Pallavi: Good nyte\\n12/22/18, 10:36 PM - Varun.Vardhaman: Good nyte\\n12/23/18, 4:02 PM - Varun.Vardhaman: You deleted this message\\n12/23/18, 4:17 PM - Pes Pallavi: Oyy\\n12/23/18, 4:18 PM - Varun.Vardhaman: Hi\\n12/23/18, 4:18 PM - Pes Pallavi: Helloo\\n12/23/18, 4:18 PM - Varun.Vardhaman: Yen madatiri?\\n12/23/18, 4:24 PM - Pes Pallavi: Sleeping\\n12/23/18, 4:24 PM - Pes Pallavi: U...!?!\\n12/23/18, 4:24 PM - Varun.Vardhaman: Watching video\\n12/23/18, 4:29 PM - Pes Pallavi: Which\\n12/23/18, 4:29 PM - Varun.Vardhaman: Reasoning\\n12/23/18, 4:30 PM - Varun.Vardhaman: KAS results bittra?\\n12/23/18, 4:44 PM - Pes Pallavi: I donno..\\n12/23/18, 4:44 PM - Pes Pallavi: Y\\n12/23/18, 4:45 PM - Varun.Vardhaman: Just asked\\n12/23/18, 4:45 PM - Varun.Vardhaman: One of my friend asked me\\n12/23/18, 4:45 PM - Varun.Vardhaman: So\\n12/23/18, 4:45 PM - Pes Pallavi: Gotthiilla\\n12/23/18, 4:45 PM - Pes Pallavi: Oota...!?!\\n12/23/18, 4:47 PM - Varun.Vardhaman: It's 5\\n12/23/18, 4:47 PM - Varun.Vardhaman: Almost\\n12/23/18, 4:47 PM - Varun.Vardhaman: Ninda dp yavagalu lonely lonely iratav why?\\n12/23/18, 5:01 PM - Pes Pallavi: Nanaga ava lyk aagthaava😁\\n12/23/18, 5:02 PM - Varun.Vardhaman: 😀\\n12/23/18, 5:02 PM - Pes Pallavi: Hehehehehe\\n12/25/18, 8:56 PM - Varun.Vardhaman: Hi\\n12/25/18, 8:57 PM - Pes Pallavi: Hellooo jiii\\n12/25/18, 8:57 PM - Pes Pallavi: Yenn maading...!?!\\n12/25/18, 8:57 PM - Varun.Vardhaman: Just sitting\\n12/25/18, 8:57 PM - Varun.Vardhaman: U\\n12/25/18, 8:57 PM - Pes Pallavi: Having food\\n12/25/18, 8:58 PM - Varun.Vardhaman: U hate ur lyf..😀\\n12/25/18, 8:58 PM - Pes Pallavi: Yup😴\\n12/25/18, 8:59 PM - Varun.Vardhaman: Yen ata?😀\\n12/25/18, 8:59 PM - Pes Pallavi: Chapati Aloo gobi matarrrr\\n12/25/18, 8:59 PM - Varun.Vardhaman: 🤦\\u200d♂\\n12/25/18, 8:59 PM - Varun.Vardhaman: Ada kelilla\\n12/25/18, 9:00 PM - Varun.Vardhaman: Ninna lyf dag yen agatada anta kelide\\n12/25/18, 9:00 PM - Pes Pallavi: Ayyya🤦🏼\\u200d♀ m lost\\n12/25/18, 9:01 PM - Pes Pallavi: Yenn kelthiii bida nandha\\n12/25/18, 9:01 PM - Varun.Vardhaman: Irali Hela\\n12/25/18, 9:01 PM - Pes Pallavi: Leave it...\\n12/25/18, 9:02 PM - Varun.Vardhaman: Madavi matter yen😀?\\n12/25/18, 9:02 PM - Pes Pallavi: Yellaaa\\n12/25/18, 9:02 PM - Varun.Vardhaman: Yella Andra ..\\n12/25/18, 9:02 PM - Pes Pallavi: Career n all\\n12/25/18, 9:03 PM - Pes Pallavi: I don't like Teaching line\\n12/25/18, 9:03 PM - Varun.Vardhaman: Than try something else\\n12/25/18, 9:04 PM - Pes Pallavi: Ayya\\n12/25/18, 9:04 PM - Varun.Vardhaman: Call me when you are free\\n12/25/18, 9:05 PM - Pes Pallavi: Ok done\\n12/25/18, 9:16 PM - Varun.Vardhaman: https://youtu.be/Xdk2DFbjKRo\\n12/25/18, 10:06 PM - Pes Pallavi: Chalo aithiiii👌🏻\\n12/25/18, 10:10 PM - Varun.Vardhaman: 😊\\n12/27/18, 5:27 PM - Varun.Vardhaman: Pallavi\\n12/27/18, 5:27 PM - Varun.Vardhaman: Yelladi?\\n12/27/18, 8:32 PM - Pes Pallavi: At hm\\n12/27/18, 8:49 PM - Pes Pallavi: Oyy\\n12/27/18, 10:13 PM - Varun.Vardhaman: Bagalkot gi bandidde..\\n12/27/18, 10:13 PM - Pes Pallavi: Ayyooo\\n12/27/18, 10:13 PM - Pes Pallavi: Y dint u call me den😠\\n12/27/18, 10:14 PM - Varun.Vardhaman: Tried not reached\\n12/27/18, 10:14 PM - Varun.Vardhaman: Adakka text maadidde..\\n12/27/18, 10:14 PM - Pes Pallavi: Maniiga barrlaara hanga hogiiyala\\n12/27/18, 10:15 PM - Pes Pallavi: Mom number try maadbekkiila\\n12/27/18, 10:15 PM - Pes Pallavi: Who all had cm..!?!\\n12/27/18, 10:17 PM - Varun.Vardhaman: Illara evatta mudhol strike ittala adakka na blrgi hontidde mudhol bus yella Banda ittu adakka train hogbekanta bande 6: 20 Bagalkot reach Ade so station ga karibekanta ankondidde.\\nManig Barak agatirlla\\n12/27/18, 10:19 PM - Pes Pallavi: Ohhhh\\n12/27/18, 10:20 PM - Pes Pallavi: Blore ga hontii...!?!\\n12/27/18, 10:20 PM - Varun.Vardhaman: Hu\\n12/27/18, 10:20 PM - Pes Pallavi: Mudhol yedakk strike yiittha\\n12/27/18, 10:21 PM - Varun.Vardhaman: Bypass road\\n12/27/18, 10:21 PM - Pes Pallavi: Naa station ga barrthiidnala\\n12/27/18, 10:21 PM - Pes Pallavi: Ninne ada text maadbekiilla\\n12/27/18, 10:22 PM - Varun.Vardhaman: Train urgent decide I'll na vrl ga hogtidde\\n12/27/18, 10:22 PM - Pes Pallavi: Vaapas barudhu...!?!\\n12/27/18, 10:22 PM - Varun.Vardhaman: Yella bus cancel madyara\\n12/27/18, 10:22 PM - Pes Pallavi: Ohhh ok\\n12/27/18, 10:22 PM - Varun.Vardhaman: 29 bitta 30 bartini\\n12/27/18, 10:22 PM - Pes Pallavi: Only fr 2 days...!?!\\n12/27/18, 10:25 PM - Varun.Vardhaman: Hu\\n12/27/18, 10:30 PM - Pes Pallavi: Happy journey ra\\n12/27/18, 10:30 PM - Varun.Vardhaman: 😊\\n12/27/18, 10:31 PM - Varun.Vardhaman: Ty\\n12/28/18, 9:16 PM - Varun.Vardhaman: Hi\\n1/1/19, 10:01 AM - Varun.Vardhaman: Happy new year\\n1/1/19, 2:22 PM - Pes Pallavi: Wish you the same🎊🎉\\n Thank youu😊\\n1/1/19, 2:23 PM - Varun.Vardhaman: 😊\\n1/3/19, 12:18 PM - Varun.Vardhaman: <Media omitted>\\n1/3/19, 12:30 PM - Varun.Vardhaman: Rest you can find in the unacademy app\\n1/3/19, 2:12 PM - Pes Pallavi: Ok done👍🏻\\n1/3/19, 3:08 PM - Varun.Vardhaman: Modern Indian history\\nKaranataka history are impbtopics\\n1/3/19, 5:49 PM - Pes Pallavi: Ohhh ok\\n1/13/19, 8:55 AM - Pes Pallavi: Good morning🎊😊\\n1/13/19, 10:38 AM - Varun.Vardhaman: Hellooooo\\n1/13/19, 10:38 AM - Varun.Vardhaman: Good morning😊😊\\n1/13/19, 10:38 AM - Varun.Vardhaman: Yen maadatiri?\\n1/13/19, 10:39 AM - Varun.Vardhaman: After long time..\\n1/13/19, 11:11 AM - Varun.Vardhaman: Call maadli?\\n1/13/19, 11:17 AM - Pes Pallavi: Having breakft\\n1/13/19, 11:18 AM - Pes Pallavi: Yaaa... \\nForgot us huh...!?!\\n1/13/19, 11:21 AM - Varun.Vardhaman: Nimna divasa nenapaskotiv\\n1/13/19, 11:21 AM - Varun.Vardhaman: Swalpa busy idde\\n1/13/19, 11:21 AM - Varun.Vardhaman: Ajji manig bandivi\\n1/13/19, 11:43 AM - Pes Pallavi: Ohhh ok\\n1/13/19, 11:43 AM - Pes Pallavi: Yenn spcl\\n1/13/19, 12:33 PM - Varun.Vardhaman: Ajjan health sari illa\\n1/13/19, 2:56 PM - Varun.Vardhaman: So nothing spcl\\n1/13/19, 3:16 PM - Pes Pallavi: Ayyoo\\n1/13/19, 3:16 PM - Pes Pallavi: Ok ok\\n1/15/19, 1:55 AM - Varun.Vardhaman: Happy birthday to your brother\\n1/15/19, 1:55 AM - Varun.Vardhaman: Convey my wishes to him\\n1/15/19, 9:16 AM - Pes Pallavi: Sure ra👍🏻😊\\n1/16/19, 5:52 PM - Varun.Vardhaman: Hi\\n1/16/19, 6:25 PM - Pes Pallavi: Hello jiii\\n1/16/19, 6:25 PM - Varun.Vardhaman: Yen maadatiri...?\\n1/16/19, 6:26 PM - Pes Pallavi: T kudyakathiivii\\n1/16/19, 6:26 PM - Varun.Vardhaman: Oh\\n1/16/19, 6:26 PM - Pes Pallavi: Neevu...!?!\\n1/16/19, 6:26 PM - Varun.Vardhaman: College hogiddri?\\n1/16/19, 8:57 PM - Varun.Vardhaman: <Media omitted>\\n1/18/19, 12:11 AM - Varun.Vardhaman: <Media omitted>\\n1/18/19, 8:00 AM - Pes Pallavi: Good morning🎊\\n1/18/19, 9:30 AM - Varun.Vardhaman: Good morning\\n1/18/19, 2:18 PM - Pes Pallavi: Yenn maad kattiirii\\n1/18/19, 2:18 PM - Varun.Vardhaman: Sumna kuntivri\\n1/18/19, 2:18 PM - Varun.Vardhaman: Niv yen maadatiri?\\n1/18/19, 2:19 PM - Pes Pallavi: Juss came back frm Clg\\n1/18/19, 2:19 PM - Varun.Vardhaman: Oh it's?\\n1/18/19, 2:19 PM - Varun.Vardhaman: *uta?\\n1/18/19, 2:19 PM - Pes Pallavi: Maadbekk yina\\n1/18/19, 2:19 PM - Pes Pallavi: Nimdu...!?!\\n1/18/19, 2:20 PM - Varun.Vardhaman: Nanu maadbekk\\n1/18/19, 2:20 PM - Pes Pallavi: Okhayee\\n1/18/19, 2:22 PM - Varun.Vardhaman: Matta\\n1/18/19, 2:30 PM - Pes Pallavi: Studies...!?!\\n1/18/19, 2:31 PM - Varun.Vardhaman: Ega sadeek illa\\n1/18/19, 2:31 PM - Pes Pallavi: Dats cool\\n1/18/19, 2:31 PM - Pes Pallavi: Peace👍🏻😁\\n1/18/19, 2:32 PM - Varun.Vardhaman: 😊\\n1/18/19, 2:32 PM - Varun.Vardhaman: Yen spcl?\\n1/18/19, 4:43 PM - Pes Pallavi: Nothing spcl...\\nBoring lyf\\n1/18/19, 7:10 PM - Varun.Vardhaman: Yeah\\n1/19/19, 6:40 PM - Varun.Vardhaman: ****\\n1/19/19, 6:58 PM - Pes Pallavi: Oyy\\n1/19/19, 6:58 PM - Varun.Vardhaman: Oyyyy\\n1/19/19, 7:21 PM - Pes Pallavi: Yenn maad kattiii\\n1/19/19, 7:21 PM - Varun.Vardhaman: Aptitude\\n1/19/19, 7:21 PM - Varun.Vardhaman: Ninu?\\n1/19/19, 7:26 PM - Pes Pallavi: Playing wid Aashrut\\n1/19/19, 7:29 PM - Varun.Vardhaman: Nice\\n1/19/19, 10:26 PM - Varun.Vardhaman: Good night 🌃\\n1/26/19, 11:47 PM - Pes Pallavi: Good nyte ra🎊\\n1/26/19, 11:48 PM - Varun.Vardhaman: Good night 😊 sd\\n1/28/19, 7:00 PM - Varun.Vardhaman: Hi\\n1/28/19, 7:01 PM - Pes Pallavi: Hellooo\\n1/28/19, 7:01 PM - Pes Pallavi: Wata  dng ra\\n1/28/19, 7:01 PM - Varun.Vardhaman: Just sitting..\\n1/28/19, 7:01 PM - Varun.Vardhaman: Wt abt u?\\n1/28/19, 7:02 PM - Pes Pallavi: Studying\\n1/28/19, 7:02 PM - Pes Pallavi: Hav internals\\n1/28/19, 7:02 PM - Varun.Vardhaman: Oh fine study\\n1/28/19, 7:04 PM - Pes Pallavi: Hw is aunty nw\\n1/28/19, 7:04 PM - Varun.Vardhaman: She is fine now\\n1/28/19, 7:04 PM - Pes Pallavi: Ok coool\\n1/28/19, 7:05 PM - Pes Pallavi: Ada ashta notes bitta math yenn study maadbekk ra, fr excise\\n1/28/19, 7:07 PM - Varun.Vardhaman: Modern Indian history \\nKarnataka history\\n1/28/19, 7:07 PM - Varun.Vardhaman: Indian maps\\n1/28/19, 7:08 PM - Varun.Vardhaman: Edara list kalstini amele\\n1/28/19, 7:08 PM - Pes Pallavi: Ohh ok\\n1/28/19, 7:08 PM - Pes Pallavi: Any reference books..!?!\\n1/28/19, 7:08 PM - Varun.Vardhaman: Unacademy\\n1/28/19, 7:09 PM - Pes Pallavi: No.. books m asking\\n1/28/19, 7:09 PM - Varun.Vardhaman: No books needed\\n1/28/19, 7:09 PM - Varun.Vardhaman: Wait\\n1/28/19, 7:09 PM - Pes Pallavi: Ok\\n1/28/19, 7:11 PM - Varun.Vardhaman: https://unacademy.app.link/MaTeDBhzQT\\n1/28/19, 7:14 PM - Varun.Vardhaman: https://unacademy.app.link/SwfrVGxzQT\\n1/28/19, 7:17 PM - Varun.Vardhaman: https://unacademy.app.link/ySxcw2IzQT\\n1/28/19, 7:18 PM - Pes Pallavi: Next...!?!\\n1/28/19, 7:18 PM - Varun.Vardhaman: Wait\\n1/28/19, 7:18 PM - Pes Pallavi: Send send\\n1/28/19, 7:22 PM - Varun.Vardhaman: You deleted this message\\n1/28/19, 7:23 PM - Varun.Vardhaman: You deleted this message\\n1/28/19, 7:24 PM - Varun.Vardhaman: Current affair vision magazine glance maad\\n1/28/19, 8:06 PM - Pes Pallavi: Huu\\n1/28/19, 8:07 PM - Pes Pallavi: Exam date announce maadidrana...!?!\\n1/28/19, 8:08 PM - Varun.Vardhaman: 17 th feb\\n1/28/19, 8:08 PM - Pes Pallavi: Ohhh damn\\n1/28/19, 8:09 PM - Pes Pallavi: I have externals\\n1/28/19, 8:09 PM - Varun.Vardhaman: Let me confirm\\n1/28/19, 8:09 PM - Pes Pallavi: Yaaa\\n1/28/19, 8:27 PM - Varun.Vardhaman: Mostly 17\\n1/28/19, 8:27 PM - Varun.Vardhaman: Hall ticket generate agilla\\n1/28/19, 8:30 PM - Pes Pallavi: Ohhh ok\\n1/28/19, 10:46 PM - Varun.Vardhaman: Good night..sd\\n1/29/19, 7:42 AM - Pes Pallavi: Good morning🎊😊\\n1/29/19, 11:12 AM - Varun.Vardhaman: Good morning\\n2/1/19, 9:07 AM - Varun.Vardhaman: Good morning😊\\n2/1/19, 11:49 AM - Pes Pallavi: Very good morning🎊\\n2/1/19, 11:17 PM - Pes Pallavi: KAS results got announced tday\\n2/1/19, 11:17 PM - Varun.Vardhaman: Mr upsc result gottata?\\n2/1/19, 11:17 PM - Pes Pallavi: No...\\n2/1/19, 11:18 PM - Pes Pallavi: M nt in contact\\n2/1/19, 11:18 PM - Varun.Vardhaman: Me also\\n2/1/19, 11:18 PM - Pes Pallavi: Wata u dng..!?!\\n2/1/19, 11:18 PM - Pes Pallavi: Studying huh\\n2/1/19, 11:18 PM - Varun.Vardhaman: Reading\\n2/1/19, 11:18 PM - Pes Pallavi: Ohh ok\\n2/1/19, 11:18 PM - Varun.Vardhaman: You deleted this message\\n2/1/19, 11:19 PM - Pes Pallavi: Nooooo\\n2/1/19, 11:19 PM - Varun.Vardhaman: Wat u dng?\\n2/1/19, 11:19 PM - Pes Pallavi: Studying fr externals\\n2/1/19, 11:19 PM - Varun.Vardhaman: Oh 17th. ?\\n2/1/19, 11:19 PM - Pes Pallavi: I ll attend\\n2/1/19, 11:20 PM - Pes Pallavi: Sunday knw... So\\n2/1/19, 11:20 PM - Varun.Vardhaman: Han Sunday\\n2/1/19, 11:20 PM - Varun.Vardhaman: But still date is not confirmed\\n2/1/19, 11:20 PM - Pes Pallavi: Ohh ok\\n2/1/19, 11:20 PM - Pes Pallavi: Do inform me abt date\\n2/1/19, 11:20 PM - Varun.Vardhaman: It might postpone to next Sunday\\n2/1/19, 11:21 PM - Varun.Vardhaman: Because 17th Afcat exam is there\\n2/1/19, 11:22 PM - Pes Pallavi: Ohhh den it may postpone\\n2/1/19, 11:22 PM - Pes Pallavi: Had ur dinner\\n2/1/19, 11:22 PM - Varun.Vardhaman: Yup\\n2/1/19, 11:23 PM - Varun.Vardhaman: Urs?\\n2/1/19, 11:23 PM - Pes Pallavi: Aaythu\\n2/1/19, 11:24 PM - Pes Pallavi: Exam clear maadiirrthara👍🏻\\n2/1/19, 11:25 PM - Pes Pallavi: Mostly preparing fr interview...\\n2/1/19, 11:25 PM - Varun.Vardhaman: Text maadli ?\\n2/1/19, 11:25 PM - Pes Pallavi: Byaaada\\n2/1/19, 11:25 PM - Varun.Vardhaman: Okay\\n2/1/19, 11:26 PM - Varun.Vardhaman: Preetam gokak falls ge hogidda.\\n2/1/19, 11:26 PM - Pes Pallavi: Exam postpone aaggbekk ra,..\\n2/1/19, 11:27 PM - Varun.Vardhaman: Let's see\\n2/1/19, 11:31 PM - Pes Pallavi: Yaaa\\n2/1/19, 11:31 PM - Varun.Vardhaman: External s yavaginda start?\\n2/1/19, 11:32 PM - Pes Pallavi: 11th to 23rd\\n2/1/19, 11:32 PM - Pes Pallavi: Dat too alternate... No much gap\\n2/1/19, 11:32 PM - Varun.Vardhaman: How many subjects?\\n2/1/19, 11:33 PM - Pes Pallavi: 7\\n2/1/19, 11:34 PM - Varun.Vardhaman: Oh\\n2/2/19, 12:15 AM - Varun.Vardhaman: Good night sweet dreams\\n2/6/19, 7:42 AM - Pes Pallavi: Good morning🎊\\n2/6/19, 8:49 AM - Varun.Vardhaman: Good morning have a nice day\\n2/6/19, 1:16 PM - Pes Pallavi: Exm date confirm aaythana ra...!?!\\n2/6/19, 1:53 PM - Varun.Vardhaman: Illara innu illa 😕\\n2/6/19, 6:28 PM - Pes Pallavi: <Media omitted>\\n2/6/19, 6:28 PM - Varun.Vardhaman: Hmm\\n2/6/19, 6:29 PM - Varun.Vardhaman: Wat dng?\\n2/6/19, 6:30 PM - Pes Pallavi: Getting freshup\\n2/6/19, 6:35 PM - Varun.Vardhaman: Clg inda bandi?\\n2/6/19, 6:38 PM - Pes Pallavi: Huu\\n2/7/19, 1:06 AM - Varun.Vardhaman: Good night sweet dreams\\n2/7/19, 9:17 AM - Pes Pallavi: Good morning🎊\\n2/7/19, 9:18 AM - Varun.Vardhaman: Good morning😊\\n2/8/19, 12:02 AM - Varun.Vardhaman: <Media omitted>\\n2/8/19, 12:02 AM - Varun.Vardhaman: Its 17th only\\n2/8/19, 9:32 AM - Pes Pallavi: Ohhhh damn...\\n2/8/19, 9:32 AM - Pes Pallavi: Good morning ra🎊\\n2/8/19, 9:32 AM - Varun.Vardhaman: Good morning\\n2/8/19, 9:33 AM - Varun.Vardhaman: 18th exam ada ?\\n2/8/19, 9:36 AM - Pes Pallavi: Huu🤦🏼\\u200d♀\\n2/8/19, 9:36 AM - Pes Pallavi: Bdw hall ticket...!?!\\n2/8/19, 9:36 AM - Varun.Vardhaman: Eginda prepare aga adaka\\n2/8/19, 9:37 AM - Pes Pallavi: Bittaar...!?!\\n2/8/19, 9:37 AM - Varun.Vardhaman: Ill inna bittilla\\n2/8/19, 9:37 AM - Pes Pallavi: Ohh ok\\n2/8/19, 9:37 AM - Pes Pallavi: Yaaa I ll cover dat sub tommo\\n2/8/19, 9:38 AM - Varun.Vardhaman: 👍\\n2/8/19, 11:16 PM - Pes Pallavi: Good nyte ra🎊\\n2/8/19, 11:17 PM - Varun.Vardhaman: Malagilla ina ?\\n2/8/19, 11:28 PM - Varun.Vardhaman: Good night sweet dreams\\n2/9/19, 8:38 AM - Pes Pallavi: Good morning🎊\\n2/9/19, 8:52 AM - Varun.Vardhaman: Good morning\\n2/9/19, 10:49 PM - Pes Pallavi: Good nyte🎊\\n2/9/19, 10:51 PM - Varun.Vardhaman: Good night sweet dreams😊\\n2/10/19, 8:52 AM - Pes Pallavi: Good morning ra🎊\\n2/10/19, 9:19 AM - Varun.Vardhaman: Good morning😊\\n2/10/19, 1:34 PM - Pes Pallavi: Oye\\n2/10/19, 1:34 PM - Varun.Vardhaman: Yup helri\\n2/10/19, 1:34 PM - Pes Pallavi: Hall ticket bitra ana\\n2/10/19, 1:35 PM - Varun.Vardhaman: Illara nanu adana check maadide\\n2/10/19, 1:35 PM - Varun.Vardhaman: Monday bibahudu\\n2/10/19, 1:35 PM - Pes Pallavi: Ohh ok\\n2/10/19, 1:35 PM - Pes Pallavi: Yenn maad kattiii\\n2/10/19, 1:36 PM - Varun.Vardhaman: Na yen odakatini nanaga gottilla vatta yeneno odkonta kuntini\\n2/10/19, 1:36 PM - Pes Pallavi: Hahahahaha\\n2/10/19, 1:36 PM - Varun.Vardhaman: Niv yen maadatiri ?\\n2/10/19, 1:36 PM - Pes Pallavi: Summ kuntheniii nod\\n2/10/19, 1:36 PM - Pes Pallavi: Bore aagakathethiii\\n2/10/19, 1:37 PM - Varun.Vardhaman: Same here\\n2/10/19, 1:37 PM - Varun.Vardhaman: Blgm henga hogud plan ada?\\n2/10/19, 1:37 PM - Pes Pallavi: Bejjaarr bejjaaarr bejjaarr\\n2/10/19, 1:37 PM - Pes Pallavi: No nt yt plannex\\n2/10/19, 1:37 PM - Pes Pallavi: planned\\n2/10/19, 1:38 PM - Varun.Vardhaman: Ninga innonda gotta\\n2/10/19, 1:38 PM - Pes Pallavi: Yenu\\n2/10/19, 1:38 PM - Varun.Vardhaman: A divasa nannu yerad paper adava\\n2/10/19, 1:38 PM - Pes Pallavi: Ayyooo\\n2/10/19, 1:38 PM - Pes Pallavi: Yaavda yaavda\\n2/10/19, 1:38 PM - Varun.Vardhaman: Afcat\\n2/10/19, 1:39 PM - Pes Pallavi: Timing...!?!\\n2/10/19, 1:39 PM - Varun.Vardhaman: 8 o clock reporting time\\n2/10/19, 1:39 PM - Pes Pallavi: Ours is at 10-11:30\\n2-3:30\\n2/10/19, 1:39 PM - Varun.Vardhaman: 😕\\n2/10/19, 1:39 PM - Varun.Vardhaman: Hu\\n2/10/19, 1:39 PM - Pes Pallavi: Yaaa it ll b lyk dat only\\n2/10/19, 1:39 PM - Varun.Vardhaman: But venue yelli anta gottilla\\n2/10/19, 1:40 PM - Varun.Vardhaman: Afcat is at 8 o clock\\n2/10/19, 1:40 PM - Pes Pallavi: Carry ur photo along wid hall ticket\\n2/10/19, 1:40 PM - Varun.Vardhaman: In kle engineering college\\n2/10/19, 1:40 PM - Varun.Vardhaman: Hu\\n2/10/19, 1:40 PM - Pes Pallavi: Ohh ok dats cool\\n2/10/19, 1:40 PM - Pes Pallavi: Den u can't attend SI\\n2/10/19, 1:41 PM - Pes Pallavi: Afcat starts frm 9'o clk\\n2/10/19, 1:41 PM - Varun.Vardhaman: Gottilla SI venue yelli anta gottilla\\n2/10/19, 1:42 PM - Pes Pallavi: Yaaa hall ticket banda myaale gottha akkethii\\n2/10/19, 1:42 PM - Varun.Vardhaman: Hu\\n2/10/19, 1:42 PM - Pes Pallavi: Don't miss AFCAT, u ll crack it easily...\\n2/10/19, 1:42 PM - Varun.Vardhaman: Afcat skip maadli?\\nIlla ESI ?\\n2/10/19, 1:42 PM - Pes Pallavi: Ur wish\\n2/10/19, 1:43 PM - Pes Pallavi: But choose smartly\\n2/10/19, 1:43 PM - Pes Pallavi: Heyy ra\\n2/10/19, 1:43 PM - Varun.Vardhaman: ESI yerada seat adava\\n2/10/19, 1:43 PM - Varun.Vardhaman: Helri\\n2/10/19, 1:43 PM - Pes Pallavi: Afcat notes books tagada yida\\n2/10/19, 1:43 PM - Pes Pallavi: August naaga nann bariithaalantha\\n2/10/19, 1:44 PM - Pes Pallavi: Aissi*\\n2/10/19, 1:44 PM - Pes Pallavi: Ayya\\n2/10/19, 1:44 PM - Pes Pallavi: Typo mistake\\n2/10/19, 1:44 PM - Varun.Vardhaman: 🙄\\n2/10/19, 1:44 PM - Pes Pallavi: My younger sisso wants\\n2/10/19, 1:45 PM - Varun.Vardhaman: Nanna kade afcat yavudu book  illa..\\n2/10/19, 1:50 PM - Pes Pallavi: Prepare henga aagakathii\\n2/10/19, 1:50 PM - Varun.Vardhaman: Test series odatini\\n2/10/19, 1:51 PM - Varun.Vardhaman: Yella mix\\n2/10/19, 1:51 PM - Pes Pallavi: Ohh ok\\n2/10/19, 1:51 PM - Pes Pallavi: Hahahaha\\n2/10/19, 1:51 PM - Pes Pallavi: Hall ticket bitra helu\\n2/10/19, 1:51 PM - Varun.Vardhaman: Hu\\n2/10/19, 1:51 PM - Pes Pallavi: Oota...!?\\n2/10/19, 1:51 PM - Varun.Vardhaman: Nanu adaka kayatini\\n2/10/19, 1:51 PM - Varun.Vardhaman: Inna maadbek\\n2/10/19, 1:51 PM - Varun.Vardhaman: Nimdu?\\n2/10/19, 1:52 PM - Pes Pallavi: Yinnu yiillaa\\n2/10/19, 1:55 PM - Varun.Vardhaman: Onda hosa app ada nod\\n2/10/19, 1:55 PM - Pes Pallavi: Yaavda\\n2/10/19, 1:55 PM - Varun.Vardhaman: Grade up\\n2/10/19, 1:55 PM - Pes Pallavi: Ok I ll check it out\\n2/10/19, 1:57 PM - Varun.Vardhaman: Adraga test seris prctice questions iratav\\n2/10/19, 1:58 PM - Pes Pallavi: Ok\\n2/10/19, 2:34 PM - Pes Pallavi: Send me referral code if u have means\\n2/10/19, 2:48 PM - Varun.Vardhaman: No refferal its no use\\n2/10/19, 2:50 PM - Pes Pallavi: Ok\\n2/10/19, 11:55 PM - Varun.Vardhaman: Good night 🌝\\n2/11/19, 7:13 AM - Pes Pallavi: Good morning🎊\\n2/11/19, 8:05 AM - Varun.Vardhaman: Good morning\\n2/11/19, 10:04 PM - Varun.Vardhaman: Good night\\n2/12/19, 7:14 PM - Pes Pallavi: Good evng🎊\\n2/12/19, 7:15 PM - Varun.Vardhaman: Good eve\\n2/12/19, 7:16 PM - Pes Pallavi: Yenn maad kattiii\\n2/12/19, 7:16 PM - Varun.Vardhaman: Grade up\\n2/12/19, 7:16 PM - Varun.Vardhaman: Niv yen madatiri?\\n2/12/19, 7:17 PM - Pes Pallavi: Ohh achaa\\n2/12/19, 7:17 PM - Pes Pallavi: Frnd has cm.. Gng to drop her\\n2/12/19, 7:18 PM - Varun.Vardhaman: Okay drop her\\n2/12/19, 7:18 PM - Pes Pallavi: Hmmm😊\\n2/12/19, 9:22 PM - Varun.Vardhaman: Hall ticket bittra\\n2/12/19, 9:54 PM - Pes Pallavi: Huu togondya\\n2/12/19, 9:54 PM - Varun.Vardhaman: You deleted this message\\n2/12/19, 9:54 PM - Varun.Vardhaman: Hu\\n2/12/19, 9:54 PM - Varun.Vardhaman: Togonde\\n2/12/19, 10:11 PM - Pes Pallavi: Huu\\n2/13/19, 1:11 AM - Varun.Vardhaman: Good night\\n2/13/19, 8:14 AM - Pes Pallavi: Good morning🎊\\n2/13/19, 8:14 AM - Varun.Vardhaman: Good morning\\n2/13/19, 10:31 AM - Pes Pallavi: Essay writing important topics yaava...!?!\\n2/13/19, 10:32 AM - Varun.Vardhaman: Okay wait i ill give some imp 15 essay\\n2/13/19, 10:33 AM - Varun.Vardhaman: Word limit yeshta ada?\\n2/13/19, 10:33 AM - Pes Pallavi: Nodiillaa\\n2/13/19, 10:33 AM - Varun.Vardhaman: Ok\\n2/13/19, 10:35 AM - Pes Pallavi: Check maadii n tell me\\n2/13/19, 10:45 AM - Pes Pallavi: Essay writting yesht marks...!?!\\n2/13/19, 10:48 AM - Varun.Vardhaman: Simultaneous election (election is coming on)\\n\\nNatural disaster like \\n(Kerala and kodugu flood)\\n\\n\\nSocial media( fake news issue)\\n\\nRegional disparites ( like separate state fight for uttara karanataka , )\\n\\n\\nExtortion of women and child (triple talaq,child labour , sexual gratification )\\n\\n\\nImp supreme court judgements like ( temple entry shabrimala, art 377, right to privacy) \\n\\n\\nGlobal warming \\n\\nUrbanisation( urban floods, mumbai ,bengaluru floods , poor drainage system \\n\\n\\nInd and pak relations\\n\\n\\nRefugges issue (rohigya muslims issue)\\n\\n\\nDigitalisation\\n\\nRuppe appreciation and depreciation\\n2/13/19, 10:49 AM - Varun.Vardhaman: Ok wait\\n2/13/19, 10:51 AM - Varun.Vardhaman: <Media omitted>\\n2/13/19, 12:00 PM - Pes Pallavi: Ohhh\\n2/13/19, 12:00 PM - Pes Pallavi: Essay da words limit\\n2/13/19, 12:01 PM - Varun.Vardhaman: Aprrox 1 hour 30 marks andra 500 to 600 words\\n2/13/19, 12:01 PM - Pes Pallavi: Hmmm\\n2/13/19, 12:02 PM - Pes Pallavi: Yavada decide maadidii\\n2/13/19, 12:02 PM - Pes Pallavi: Afcat or dis\\n2/13/19, 12:02 PM - Varun.Vardhaman: Esi\\n2/13/19, 12:02 PM - Pes Pallavi: 👍🏻😊\\n2/13/19, 12:02 PM - Varun.Vardhaman: Afcat august dag bekadra. Matta baritini\\n2/13/19, 12:03 PM - Pes Pallavi: Yaaaa\\n2/13/19, 12:03 PM - Varun.Vardhaman: Ida  mur nalka varshakommi baratta\\n2/13/19, 12:03 PM - Pes Pallavi: Center yelliii bandethii\\n2/13/19, 12:03 PM - Varun.Vardhaman: <Media omitted>\\n2/13/19, 12:03 PM - Varun.Vardhaman: Ninda?\\n2/13/19, 12:07 PM - Pes Pallavi: Smt ushatai gogte girls high school belgavi\\n2/13/19, 12:10 PM - Varun.Vardhaman: Udyambagh?\\n2/13/19, 12:10 PM - Varun.Vardhaman: 🤦\\u200d♂ bere bere kade banta?\\n2/13/19, 12:10 PM - Pes Pallavi: fort road\\n2/13/19, 12:11 PM - Pes Pallavi: Huuu\\n2/13/19, 12:11 PM - Pes Pallavi: Dat too pretty far\\n2/13/19, 12:11 PM - Varun.Vardhaman: Maps valaga check maadtini tadi\\n2/13/19, 12:13 PM - Varun.Vardhaman: <Media omitted>\\n2/13/19, 12:17 PM - Pes Pallavi: Ayy\\n2/13/19, 12:17 PM - Pes Pallavi: Only 1km🤩\\n2/13/19, 12:17 PM - Varun.Vardhaman: 😀👍\\n2/13/19, 12:17 PM - Pes Pallavi: Wen u aa gng\\n2/13/19, 12:18 PM - Varun.Vardhaman: Early morning\\n2/13/19, 12:18 PM - Pes Pallavi: Naanu early morning\\n2/13/19, 12:18 PM - Varun.Vardhaman: Still deciding how to go\\n2/13/19, 12:18 PM - Pes Pallavi: Decide decide\\n2/13/19, 12:19 PM - Varun.Vardhaman: Bus timing gotta?\\n2/13/19, 12:20 PM - Pes Pallavi: M leaving at 6\\n2/13/19, 12:20 PM - Varun.Vardhaman: Ksrtc?\\n2/13/19, 12:20 PM - Pes Pallavi: Early morning by 6:30 start\\n2/13/19, 12:20 PM - Pes Pallavi: Huu\\n2/13/19, 12:20 PM - Varun.Vardhaman: Lokapur melinda hogutta?\\n2/13/19, 12:20 PM - Pes Pallavi: Huuu\\n2/13/19, 12:21 PM - Pes Pallavi: Better U go by car\\n2/13/19, 12:21 PM - Pes Pallavi: It ll b near fr u\\n2/13/19, 12:22 PM - Varun.Vardhaman: Pappadu kelsa ada so avaru bandra car togonda. Hogtini\\n2/13/19, 12:23 PM - Varun.Vardhaman: Illandra bus\\n2/13/19, 12:23 PM - Pes Pallavi: Ohhh ok👍🏻😊\\n2/13/19, 12:24 PM - Varun.Vardhaman: I car adra you can join  us from lokapur\\n2/13/19, 12:24 PM - Varun.Vardhaman: *if\\n2/13/19, 12:25 PM - Pes Pallavi: Huu...\\nAadhra naa one day b4 hogbekk anth plan maad katthinii\\n2/13/19, 12:25 PM - Pes Pallavi: I have exam on Monday...\\n2/13/19, 12:26 PM - Varun.Vardhaman: 🙄\\n2/13/19, 12:26 PM - Pes Pallavi: Sunday whole day hogbidattha\\n2/13/19, 12:26 PM - Varun.Vardhaman: How come\\n2/13/19, 12:27 PM - Pes Pallavi: 1st sem exams\\n2/13/19, 12:27 PM - Varun.Vardhaman: Oh\\n2/13/19, 12:27 PM - Varun.Vardhaman: Okay\\n2/13/19, 12:28 PM - Pes Pallavi: Oota...!?!\\n2/13/19, 12:28 PM - Varun.Vardhaman: Enu illa\\n2/13/19, 12:28 PM - Pes Pallavi: Wat's spcl\\n2/13/19, 12:28 PM - Varun.Vardhaman: Nothing as usual\\n2/13/19, 12:29 PM - Varun.Vardhaman: Nimda?\\n2/13/19, 12:29 PM - Pes Pallavi: Nothing spcl\\n2/13/19, 12:29 PM - Pes Pallavi: Pulav\\n2/13/19, 11:11 PM - Varun.Vardhaman: Good night sweet dreams\\n2/13/19, 11:18 PM - Pes Pallavi: Good nyte ra🎊\\n2/16/19, 8:31 PM - Varun.Vardhaman: Hi\\n2/16/19, 8:39 PM - Pes Pallavi: Helloo\\n2/16/19, 8:39 PM - Pes Pallavi: Yenn maad kattiirii\\n2/16/19, 8:39 PM - Varun.Vardhaman: Sumna kuntivri\\n2/16/19, 8:40 PM - Varun.Vardhaman: Niv blgm hodri?\\n2/16/19, 8:40 PM - Pes Pallavi: Morning hogthenii\\n2/16/19, 8:41 PM - Varun.Vardhaman: Onda divasa modala hogakiidella\\n2/16/19, 8:44 PM - Pes Pallavi: Houda but Aagliillaa...\\n2/16/19, 8:44 PM - Pes Pallavi: Early morning bidbekk🤦🏼\\u200d♀\\n2/16/19, 8:44 PM - Pes Pallavi: Nee yavag hontii\\n2/16/19, 8:45 PM - Varun.Vardhaman: Morning 5\\n2/16/19, 8:45 PM - Varun.Vardhaman: Bus\\n2/16/19, 8:46 PM - Pes Pallavi: Bus ga hontii neenu\\n2/16/19, 8:47 PM - Varun.Vardhaman: Hu\\n2/16/19, 8:48 PM - Pes Pallavi: Ok ok\\n2/16/19, 8:49 PM - Pes Pallavi: All the best ra😁👍🏻\\n2/16/19, 8:58 PM - Varun.Vardhaman: All the best\\n2/16/19, 8:58 PM - Pes Pallavi: Ayya\\n2/16/19, 8:58 PM - Pes Pallavi: Oota...!?1\\n2/16/19, 9:05 PM - Varun.Vardhaman: Ena illa\\n2/16/19, 9:05 PM - Varun.Vardhaman: Snana maadi uta maadtini\\n2/16/19, 9:10 PM - Pes Pallavi: Yiinnuuu maadiillaaa😱\\n2/16/19, 9:38 PM - Varun.Vardhaman: Illa ra\\n2/16/19, 9:39 PM - Varun.Vardhaman: Nalinda ega maadatini\\n2/16/19, 10:02 PM - Pes Pallavi: Haaakka\\n2/16/19, 10:02 PM - Varun.Vardhaman: 😊\\n2/17/19, 5:35 AM - Varun.Vardhaman: Did u catch the bush?\\n2/17/19, 5:38 AM - Pes Pallavi: No\\n2/17/19, 8:17 AM - Varun.Vardhaman: Reached belagavi?\\n2/17/19, 9:12 PM - Pes Pallavi: Helloo\\n2/17/19, 9:16 PM - Varun.Vardhaman: Maatadbeda nanna jote\\n2/17/19, 9:17 PM - Pes Pallavi: Heyy phone yiirrliilla ra🤦🏼\\u200d♀\\n2/17/19, 9:17 PM - Pes Pallavi: Adakka contact maadaak aagliillaa\\n2/17/19, 9:17 PM - Varun.Vardhaman: Bgm phone togonda hogirlilla?\\n2/17/19, 9:18 PM - Pes Pallavi: Nooo🤦🏼\\u200d♀\\nForgot in urgency\\n2/17/19, 9:18 PM - Varun.Vardhaman: Hengata exam?\\n2/17/19, 9:26 PM - Pes Pallavi: Henga maadidiii\\n2/17/19, 9:27 PM - Varun.Vardhaman: Check maadatini\\n2/17/19, 9:27 PM - Varun.Vardhaman: Adana\\n2/17/19, 9:27 PM - Pes Pallavi: Gotthiilla😬\\n2/17/19, 9:28 PM - Pes Pallavi: 15-20 asshta accurate haakinii\\n2/17/19, 9:28 PM - Varun.Vardhaman: 😊\\n2/17/19, 9:28 PM - Pes Pallavi: Negative marking🤦🏼\\u200d♀\\n2/17/19, 9:28 PM - Varun.Vardhaman: Hu\\n2/17/19, 9:28 PM - Pes Pallavi: Maada maada😊\\n2/17/19, 9:29 PM - Varun.Vardhaman: Uta?\\n2/17/19, 9:39 PM - Pes Pallavi: Maadbekk\\n2/17/19, 9:39 PM - Pes Pallavi: Nindha\\n2/17/19, 9:40 PM - Varun.Vardhaman: Maadbek\\n2/17/19, 9:52 PM - Pes Pallavi: Yenn spcl\\n2/17/19, 9:53 PM - Varun.Vardhaman: 🤦\\u200d♂tappa bhaal aadu\\n2/17/19, 9:53 PM - Pes Pallavi: Ayyooo\\n2/17/19, 9:53 PM - Pes Pallavi: Yedakka\\n2/17/19, 9:53 PM - Varun.Vardhaman: Ena check maadatini\\n2/17/19, 9:53 PM - Varun.Vardhaman: Yeshta attempt maadidi?\\n2/17/19, 9:53 PM - Pes Pallavi: Smtyms Luck ku bekk ra\\n2/17/19, 9:54 PM - Pes Pallavi: Around 60\\n2/17/19, 9:54 PM - Varun.Vardhaman: Nice\\n2/17/19, 9:54 PM - Pes Pallavi: I have exam tommo🤦🏼\\u200d♀\\nNeed to study nw\\n2/17/19, 9:55 PM - Varun.Vardhaman: Study study\\n2/17/19, 9:55 PM - Pes Pallavi: 😭😭😭😭😭😭\\n2/17/19, 10:06 PM - Pes Pallavi: Huuu\\n2/17/19, 10:06 PM - Varun.Vardhaman: All the best\\n2/17/19, 10:07 PM - Varun.Vardhaman: Approx 80 marks barbahudu\\n2/17/19, 10:07 PM - Pes Pallavi: Thank u\\n2/17/19, 10:07 PM - Pes Pallavi: Good good\\n2/17/19, 10:44 PM - Varun.Vardhaman: Gs valaga\\n2/18/19, 11:33 AM - Pes Pallavi: Good morning🎊\\n2/18/19, 11:33 AM - Varun.Vardhaman: Good morning\\n2/18/19, 11:34 AM - Pes Pallavi: Yenn maad kattiii\\n2/18/19, 11:34 AM - Varun.Vardhaman: Quantitative aptitude practice maadatini\\n2/18/19, 11:34 AM - Varun.Vardhaman: Niv yen maadatiri?\\n2/18/19, 11:35 AM - Pes Pallavi: Yivattha exm baryakathiilla\\n2/18/19, 11:35 AM - Varun.Vardhaman: 🙄\\n2/18/19, 11:35 AM - Pes Pallavi: I grade\\n2/18/19, 11:36 AM - Varun.Vardhaman: Re exam iratta?\\n2/18/19, 11:36 AM - Pes Pallavi: Huu i grade\\n2/18/19, 11:36 AM - Varun.Vardhaman: Illu i grade iratta?\\n2/18/19, 11:36 AM - Pes Pallavi: Huuu😁\\n2/18/19, 11:36 AM - Varun.Vardhaman: Maja maada\\n2/18/19, 11:37 AM - Varun.Vardhaman: Ardha exam ega bari ardha exam avag bariyuvante\\n2/18/19, 11:37 AM - Pes Pallavi: Ayyooo saakagethii maraya🤦🏼\\u200d♀ \\nTension tension tension\\n2/18/19, 11:37 AM - Pes Pallavi: F grade aagattha hang aadhra\\n2/18/19, 11:38 AM - Varun.Vardhaman: I grade bare ninna vabbaki samabda avara question paper set maadbek\\n2/18/19, 11:38 AM - Varun.Vardhaman: Iravra 7 jana idiri\\n2/18/19, 11:39 AM - Pes Pallavi: Huuu😁\\n2/18/19, 11:40 AM - Varun.Vardhaman: Next exam yavaga?\\n2/18/19, 11:40 AM - Pes Pallavi: Wed\\n2/18/19, 11:41 AM - Varun.Vardhaman: Adakka prepare aagu\\n2/18/19, 11:43 AM - Pes Pallavi: Huuu\\n2/18/19, 11:43 AM - Pes Pallavi: Heyy ra\\n2/18/19, 11:43 AM - Varun.Vardhaman: Helri\\n2/18/19, 11:44 AM - Pes Pallavi: RRB JE syllabus kalasa\\n2/18/19, 11:44 AM - Varun.Vardhaman: Yar apply maadyara?\\n2/18/19, 11:44 AM - Pes Pallavi: Naana\\n2/18/19, 11:45 AM - Varun.Vardhaman: Ni yava branch apply maadi?\\n2/18/19, 11:46 AM - Pes Pallavi: Electronics\\n2/18/19, 11:47 AM - Varun.Vardhaman: Electronics +allide exams\\n2/18/19, 11:47 AM - Pes Pallavi: Combination of any sub stream of basic streams of Electronics Engg\\n2/18/19, 11:49 AM - Varun.Vardhaman: RRB JE 1st stage CBT will have the following four sections:\\n\\na. General Intelligence and Reasoning\\nb. General Awareness\\nc. Mathematics\\nd. General Science\\nRRB JE 2nd stage CBT will have the following sections:\\n\\na. General Awareness\\nb. Physics and Chemistry\\nc. Basics of Computers and Application\\nd. Basics of Environment and Pollution Control\\ne. Technical Abilities\\n2/18/19, 11:50 AM - Varun.Vardhaman: RRB JE Syllabus For Mathematics\\nThe following topics are included in the RRB JE Syllabus for Mathematics:\\n\\nAlgebra\\nPolynomials\\nInstalments\\nFactors and Simplification\\nArithmetic Simple and Compound Interest\\nTaxation\\nShares and Dividends\\nRatio and Proportion\\nPercentage\\nTime and Distance\\nTime and Work\\nProfit and Loss\\nPipes and Cisterns\\nMensuration\\nProblem on Ages\\nInvestment\\nData Interpretation\\nHistogram\\nFrequency Polygon\\nBar-Diagram\\nPie-Chart\\nPictorial Graph\\nRRB JE Syllabus For General Awareness\\nThe General Awareness section of RRB JE requires your updated knowledge on current affairs and events taking place both at the National and International levels. A few questions related to new technologies and reform in Indian Railway can also be asked. Stay updated on the topics given below for General Awareness:\\n\\nRail Budget\\nGeneral Awareness on Railway\\nIndian Polity\\nCurrent Events\\nGeography\\nEconomy\\nBanking\\nSports\\nFinance Marketing\\nIndian History\\nRRB JE Syllabus For General Intelligence & Reasoning\\nThe Reasoning section can be a tricky one. Check out the detailed RRB JE Syllabus for General Intelligence & Reasoning:\\n\\nNumber Series\\nInput-Output\\nSyllogism\\nCoding-Decoding\\nWord Building\\nClock\\nSeating Arrangement\\nCalendar\\nDecision Making\\nDirection Sense\\nVisual Memory\\nBlood Relations\\nFigural Classification\\nArithmetical Reasoning\\nSimilarities and Differences\\nSpace Visualization or Space Orientation\\nAnalogy\\nNon-Verbal Series\\nStatement Conclusion\\nRRB JE Syllabus For General Science\\nGeneral Science section requires your knowledge of basic, high school level Science – Physics, Chemistry, and Biology. Follow the CBSE syllabus of Class 9 and Class 10 Science for this section.\\n\\nRRB JE Syllabus CBT 2\\nHere we have mentioned the syllabus for RRB JE CBT 2 exam. The syllabus mentioned below is under the section Technical Abilities. There are four more sections (General Awareness, Physics & Chemistry, Basics of Computers & Applications and Basics of Environment & Pollution Control) under the CBT 2 syllabus.\\n\\nRRB JE Syllabus For Electronics Engineering\\nFor Electronics Engineering, the RRB JE Syllabus is as under:\\n\\nElectronic Devices\\nWireless Communication\\nEnergy Bands\\nSignal and Systems\\nCarrier Transport in Silicon: Diffusion current, Drift current, Mobility, and Resistivity\\nGeneration and recombination of carriers\\nTunnel\\nControl System\\nJunctions\\nDiodes\\nEMFT\\nAnalog and Digital Circuits\\nCommunication\\nBasics of Signal and Systems\\n2/18/19, 11:50 AM - Varun.Vardhaman: Done\\n2/18/19, 1:28 PM - Pes Pallavi: Unacademy olaga yiillaa...!?!\\n2/18/19, 1:28 PM - Varun.Vardhaman: Nodtini tadi\\n2/18/19, 1:30 PM - Varun.Vardhaman: <Media omitted>\\n2/18/19, 1:30 PM - Varun.Vardhaman: Technical yavu illa\\n2/18/19, 1:31 PM - Pes Pallavi: Ohh ok..\\n2/18/19, 1:33 PM - Varun.Vardhaman: https://youtu.be/Q_6G_-wlqbo\\n2/18/19, 1:34 PM - Varun.Vardhaman: <Media omitted>\\n2/18/19, 3:02 PM - Pes Pallavi: Huu\\n2/18/19, 3:03 PM - Varun.Vardhaman: Na apply maadlilla adakka\\n2/18/19, 3:04 PM - Pes Pallavi: Y\\n2/18/19, 3:04 PM - Pes Pallavi: Bcoz of technical huh\\n2/18/19, 3:04 PM - Varun.Vardhaman: No\\n2/18/19, 3:04 PM - Varun.Vardhaman: Gottaglilla\\n2/18/19, 3:08 PM - Pes Pallavi: Hmmm\\n3/14/19, 8:47 PM - Pes Pallavi: Hiii ra...\\nHwa u\\n3/14/19, 8:47 PM - Pes Pallavi: Wer u hav lost..!?!\\n3/15/19, 12:03 PM - Varun.Vardhaman: Heyyy\\n3/15/19, 12:03 PM - Varun.Vardhaman: I am sorry\\n3/15/19, 12:03 PM - Varun.Vardhaman: Was busy\\n3/15/19, 12:03 PM - Varun.Vardhaman: How are you\\n3/15/19, 12:55 PM - Pes Pallavi: M good\\n3/15/19, 12:55 PM - Pes Pallavi: Hwa u\\n3/15/19, 12:55 PM - Pes Pallavi: Yeshhtt bzyyy ada\\n3/15/19, 1:00 PM - Varun.Vardhaman: Swalpa diwasa phone bitta dur idde\\n3/15/19, 1:01 PM - Varun.Vardhaman: I am good\\n3/15/19, 1:01 PM - Varun.Vardhaman: Wat dng?\\n3/15/19, 1:17 PM - Pes Pallavi: Ohhh suupprrrrr\\n3/15/19, 1:17 PM - Varun.Vardhaman: Yen nadsiri\\n3/15/19, 1:41 PM - Pes Pallavi: Came back frm clg\\n3/15/19, 10:15 PM - Varun.Vardhaman: Uta?\\n3/15/19, 10:21 PM - Pes Pallavi: Maadbekk ra\\n3/15/19, 10:21 PM - Pes Pallavi: Nimdhu...!?!\\n3/15/19, 10:22 PM - Varun.Vardhaman: Maadbeku\\n3/15/19, 10:22 PM - Pes Pallavi: Yenn spcl riii\\n3/15/19, 10:23 PM - Varun.Vardhaman: Nothing chapati bendi\\n3/15/19, 10:23 PM - Pes Pallavi: Bendii... Yumm\\n3/15/19, 10:25 PM - Varun.Vardhaman: Nimdu?\\n3/15/19, 10:25 PM - Pes Pallavi: Curd rice\\n3/15/19, 10:41 PM - Varun.Vardhaman: Nice\\n3/15/19, 10:41 PM - Varun.Vardhaman: Rrb je preparation henga nadadada\\n3/15/19, 10:53 PM - Pes Pallavi: No tym only ra🤦🏼\\u200d♀\\n3/16/19, 10:11 PM - Varun.Vardhaman: <Media omitted>\\n3/16/19, 10:21 PM - Pes Pallavi: Good nyte🎊😊\\n3/26/19, 9:10 PM - Varun.Vardhaman: Hi\\n3/26/19, 9:37 PM - Pes Pallavi: Hellooo jiii\\n3/27/19, 10:45 AM - Varun.Vardhaman: Good morning\\n3/27/19, 12:08 PM - Pes Pallavi: Good nooon ra\\n3/27/19, 12:08 PM - Pes Pallavi: Wru... Yenn maad kattiii\\n3/27/19, 12:49 PM - Varun.Vardhaman: In mudhol\\n3/27/19, 12:49 PM - Varun.Vardhaman: Wt dng?\\n3/27/19, 12:55 PM - Pes Pallavi: In lab\\n3/27/19, 1:16 PM - Varun.Vardhaman: Second sem start aata?\\n3/27/19, 1:18 PM - Pes Pallavi: Huu\\n3/29/19, 9:21 PM - Varun.Vardhaman: Hey shweta birthday yavaga?\\n3/29/19, 9:24 PM - Pes Pallavi: May 16\\n3/29/19, 9:25 PM - Varun.Vardhaman: Okay\\n3/29/19, 9:25 PM - Varun.Vardhaman: Yen nadsiri\\n3/29/19, 9:31 PM - Pes Pallavi: Having food\\n3/29/19, 9:31 PM - Pes Pallavi: Wat abt u\\n3/29/19, 9:31 PM - Pes Pallavi: ESI results biitra...!?!\\n3/30/19, 10:00 AM - Varun.Vardhaman: Gottilla  check maadbek\\n3/30/19, 10:28 AM - Pes Pallavi: Hmm ok ra\\n4/2/19, 9:29 PM - Varun.Vardhaman: Hello\\n4/2/19, 9:43 PM - Pes Pallavi: Hii\\n4/2/19, 9:43 PM - Pes Pallavi: Yessht bzyyyy\\n4/2/19, 9:44 PM - Varun.Vardhaman: Illa phone manivalaga itta. Naa market gi hogidde so gottaglilla\\n4/2/19, 9:44 PM - Varun.Vardhaman: Yen nadsiri?\\n4/2/19, 9:44 PM - Pes Pallavi: Having food\\n4/2/19, 9:45 PM - Pes Pallavi: Neeva..!?!\\n4/2/19, 9:45 PM - Varun.Vardhaman: Just sitting\\n4/2/19, 9:46 PM - Pes Pallavi: Aunty ada aaram addarr...!?!\\n4/2/19, 9:47 PM - Varun.Vardhaman: Hu aram adara\\n4/2/19, 9:47 PM - Varun.Vardhaman: Namma aunty adu aram adara?\\n4/2/19, 9:47 PM - Pes Pallavi: Huu aram adaarr😊\\n4/2/19, 9:47 PM - Pes Pallavi: Oota...!?!\\n4/2/19, 9:47 PM - Varun.Vardhaman: Ena illra inna maadbek\\n4/2/19, 9:48 PM - Pes Pallavi: Blore ga hogiilla...!?!\\n4/2/19, 9:48 PM - Varun.Vardhaman: Illa😕\\n4/2/19, 9:48 PM - Pes Pallavi: Naav march 2nd week hogii bandhvii... Akka n jeeju vaapas hodhra\\n4/2/19, 9:50 PM - Varun.Vardhaman: Hu mummy andru fb valaga travelling status haakidru jeeju anta avaga   gottagiddu jeeju hogiddu\\n4/2/19, 9:52 PM - Pes Pallavi: Yaaaa\\n4/2/19, 9:52 PM - Pes Pallavi: Studies yella henga nadadethii\\n4/2/19, 9:52 PM - Varun.Vardhaman: Hu nadedada\\n4/2/19, 9:52 PM - Pes Pallavi: Left wid 2 months alaa\\n4/2/19, 9:53 PM - Varun.Vardhaman: Yaa\\n4/2/19, 9:53 PM - Pes Pallavi: Bgk yavag barrthiirii\\n4/2/19, 9:53 PM - Varun.Vardhaman: Bartivi bartivi\\n4/2/19, 9:54 PM - Pes Pallavi: Bariii anuudatha😕\\n4/2/19, 9:54 PM - Pes Pallavi: Naana mudhol barrbekk, books togonda baraakk\\n4/2/19, 9:55 PM - Varun.Vardhaman: Bartivi onda divasa\\n4/2/19, 9:55 PM - Pes Pallavi: Barri barri\\n4/2/19, 9:55 PM - Varun.Vardhaman: Oho books ille adavala ena🤦\\u200d♂\\n4/2/19, 9:55 PM - Varun.Vardhaman: Nenepe illa..\\n4/2/19, 9:55 PM - Pes Pallavi: Weekend barthenii if possible\\n4/2/19, 9:56 PM - Varun.Vardhaman: 👍\\n4/2/19, 9:56 PM - Varun.Vardhaman: Ur always welcome\\n4/2/19, 9:56 PM - Pes Pallavi: Sataday after Class\\n4/2/19, 9:56 PM - Pes Pallavi: Hmmm😊\\n4/2/19, 9:57 PM - Varun.Vardhaman: Saturday?\\n4/2/19, 9:57 PM - Varun.Vardhaman: Or sunday\\n4/2/19, 9:58 PM - Pes Pallavi: Its working day on Sunday\\n4/2/19, 9:58 PM - Pes Pallavi: So mostly nt possible\\n4/2/19, 9:58 PM - Pes Pallavi: Wil come next weekend only\\n4/2/19, 9:58 PM - Varun.Vardhaman: You come at any day\\n4/2/19, 9:58 PM - Varun.Vardhaman: I just asked\\n4/2/19, 9:58 PM - Pes Pallavi: Ohh ok..\\n4/3/19, 7:11 AM - Pes Pallavi: Good morning🎊\\n4/3/19, 10:40 PM - Pes Pallavi: Good nyte🎊☺\\n4/3/19, 10:41 PM - Varun.Vardhaman: 😊\\n4/4/19, 10:34 PM - Varun.Vardhaman: <Media omitted>\\n4/4/19, 10:46 PM - Pes Pallavi: Hellooo\\n4/4/19, 11:08 PM - Varun.Vardhaman: Yen nadsiri\\n4/4/19, 11:08 PM - Pes Pallavi: Having food\\n4/4/19, 11:08 PM - Pes Pallavi: Nee...!?!\\n4/4/19, 11:09 PM - Pes Pallavi: Yessht bzy aagiii nod\\n4/4/19, 11:09 PM - Varun.Vardhaman: No power sumna kuntini\\n4/4/19, 11:09 PM - Pes Pallavi: Ohhh damn...\\n4/4/19, 11:18 PM - Varun.Vardhaman: Mali baratada\\n4/4/19, 11:18 PM - Varun.Vardhaman: ?\\n4/4/19, 11:18 PM - Varun.Vardhaman: Nim kade\\n4/4/19, 11:28 PM - Pes Pallavi: Noo... Bariii lightening aithii\\n4/4/19, 11:28 PM - Pes Pallavi: Nimm kade...!?!\\n4/4/19, 11:30 PM - Varun.Vardhaman: Jor ada\\n4/5/19, 12:23 AM - Pes Pallavi: Wooo\\n4/5/19, 5:00 AM - Varun.Vardhaman: 😊\\n4/5/19, 2:12 PM - Varun.Vardhaman: Hi\\n4/5/19, 2:12 PM - Varun.Vardhaman: At what time coming tm?\\n4/5/19, 2:45 PM - Pes Pallavi: Helloo\\n4/5/19, 2:45 PM - Pes Pallavi: I didn't get u ra\\n4/5/19, 2:57 PM - Varun.Vardhaman: Nale beligge yesht ganteg barti?\\n4/5/19, 3:10 PM - Pes Pallavi: Nale mani devriga hintivii\\n4/5/19, 3:10 PM - Pes Pallavi: So tell u once I decide😊\\n4/5/19, 3:11 PM - Varun.Vardhaman: Okay\\n4/5/19, 3:11 PM - Pes Pallavi: And next week 1st internals adaav\\n4/5/19, 3:11 PM - Pes Pallavi: So\\n4/5/19, 3:11 PM - Varun.Vardhaman: Nale na baa\\n4/5/19, 3:12 PM - Pes Pallavi: Mani devriga hontivi\\n4/5/19, 3:12 PM - Varun.Vardhaman: Okay decide and tell me today\\n4/5/19, 3:16 PM - Pes Pallavi: Can't cm tommo ra\\n4/5/19, 3:16 PM - Varun.Vardhaman: Than sunday?\\n4/5/19, 3:16 PM - Pes Pallavi: Hav clg\\n4/5/19, 3:16 PM - Varun.Vardhaman: 🤦\\u200d♂\\n4/5/19, 6:41 PM - Varun.Vardhaman: Muummy is waiting for you\\n4/5/19, 9:37 PM - Pes Pallavi: Ayyoo\\n4/5/19, 9:57 PM - Varun.Vardhaman: <Media omitted>\\n4/5/19, 9:57 PM - Varun.Vardhaman: Yavag barud plan maadiri?\\n4/5/19, 9:57 PM - Pes Pallavi: Last week of this month ra\\n4/5/19, 9:58 PM - Varun.Vardhaman: <Media omitted>\\n4/5/19, 9:58 PM - Pes Pallavi: I ll cm after internals only...\\n4/5/19, 9:58 PM - Pes Pallavi: Classes ll b hectic in between\\n4/5/19, 9:58 PM - Varun.Vardhaman: Okay\\n4/5/19, 9:59 PM - Pes Pallavi: Oota...!?!\\n4/5/19, 9:59 PM - Varun.Vardhaman: Just aata nimda?\\n4/5/19, 10:00 PM - Pes Pallavi: Over👍🏻\\n4/5/19, 10:00 PM - Varun.Vardhaman: 😊\\n4/5/19, 10:08 PM - Pes Pallavi: Good nyte ra😊\\n4/5/19, 10:08 PM - Varun.Vardhaman: Good night\\n4/16/19, 9:18 PM - Varun.Vardhaman: Hi\\n4/16/19, 9:22 PM - Pes Pallavi: Hellooo\\n4/16/19, 9:22 PM - Pes Pallavi: Hwa u ra\\n4/16/19, 9:22 PM - Varun.Vardhaman: Fine\\n4/16/19, 9:22 PM - Varun.Vardhaman: Hw r u?\\n4/16/19, 9:22 PM - Pes Pallavi: Yelliii gayab aagiii ra\\n4/16/19, 9:22 PM - Pes Pallavi: M good\\n4/16/19, 9:23 PM - Varun.Vardhaman: Yellu illa\\n4/16/19, 9:23 PM - Varun.Vardhaman: Dp yelli?\\n4/16/19, 9:23 PM - Varun.Vardhaman: Recording?\\n4/16/19, 9:23 PM - Pes Pallavi: Collage radio ra\\n4/16/19, 9:23 PM - Pes Pallavi: 🤭\\n4/16/19, 9:24 PM - Varun.Vardhaman: Oh nimma colle radio ada\\n4/16/19, 9:24 PM - Pes Pallavi: Noo... Byaare aavrd record maada kathiidda\\n4/16/19, 9:24 PM - Varun.Vardhaman: Oh ok\\n4/16/19, 9:25 PM - Varun.Vardhaman: Yen plans holidays?\\n4/16/19, 9:33 PM - Pes Pallavi: No plan nthng ra🤦🏻\\u200d♀ boring\\n4/16/19, 9:34 PM - Varun.Vardhaman: I got a plan\\n4/16/19, 9:37 PM - Pes Pallavi: Tell me tell me\\n4/16/19, 9:38 PM - Varun.Vardhaman: Devaragi hontivi family\\n4/16/19, 9:51 PM - Pes Pallavi: Wen\\n4/16/19, 10:08 PM - Varun.Vardhaman: 18th night\\n4/16/19, 11:11 PM - Pes Pallavi: Ayyo I hav internals ra\\n4/16/19, 11:41 PM - Varun.Vardhaman: Yavaga?\\n4/16/19, 11:43 PM - Pes Pallavi: Actually v had on 16, 18 & 20\\n4/16/19, 11:43 PM - Varun.Vardhaman: Oh 🤦\\u200d♂\\n4/16/19, 11:43 PM - Pes Pallavi: But nw it's 20, 21, & 22...\\nBcozz Modi's visit to bgk  on 18th\\n4/16/19, 11:47 PM - Varun.Vardhaman: 🤦\\u200d♂\\n4/16/19, 11:47 PM - Pes Pallavi: Hmm🤦🏻\\u200d♀\\n4/16/19, 11:48 PM - Varun.Vardhaman: 20th vapas bartivi\\n4/16/19, 11:48 PM - Varun.Vardhaman: Internals skip maadak baralla\\n4/16/19, 11:49 PM - Varun.Vardhaman: ?\\n4/16/19, 11:53 PM - Pes Pallavi: Noo ra\\n4/17/19, 6:05 AM - Varun.Vardhaman: okay\\n4/26/19, 9:20 AM - Varun.Vardhaman: Hey\\n4/26/19, 9:26 AM - Pes Pallavi: Hiiii ra...\\n4/26/19, 9:26 AM - Pes Pallavi: Good morning🎊\\n4/26/19, 9:26 AM - Varun.Vardhaman: Good morning\\n4/26/19, 9:26 AM - Varun.Vardhaman: Yen nadsiri\\n4/26/19, 9:26 AM - Pes Pallavi: In classs🤭😁\\n4/26/19, 9:26 AM - Varun.Vardhaman: Oh\\n4/26/19, 9:27 AM - Pes Pallavi: Neev yenn maad kattiirii\\n4/26/19, 9:27 AM - Varun.Vardhaman: Ninda huttida time hela\\n4/26/19, 9:27 AM - Varun.Vardhaman: Sumna kuntivi\\n4/26/19, 9:35 AM - Pes Pallavi: Gotthiillaaa😕\\n4/26/19, 9:35 AM - Pes Pallavi: Infact mummy gu nenap yilla anth...\\n4/26/19, 9:36 AM - Varun.Vardhaman: Hoglibidu\\n4/26/19, 9:37 AM - Pes Pallavi: 1st gal baby 2nd gal baby aagiiddhakka avrr nann ignore maadyaarr nann as tym naaga\\n4/26/19, 9:38 AM - Pes Pallavi: Mummy nann bdat date bitra byaare yenu gotthiillaaa\\n4/26/19, 9:38 AM - Pes Pallavi: Bday\\n4/26/19, 9:38 AM - Varun.Vardhaman: 🙄 i didnt got it\\n4/26/19, 9:39 AM - Pes Pallavi: Ayya\\n4/26/19, 9:44 AM - Pes Pallavi: I was a 2nd gal child to my parents... \\nGirl baby huttidhra ppl used to think lyk dat ll b burden fr dem During those days.. So my mom didn't concentrate on me much wen she had got to know dat 2nd baby also girl child..😁😂\\n4/26/19, 9:45 AM - Varun.Vardhaman: 😀😀🤦\\u200d♂🤦\\u200d♂ayyo paapa\\n4/26/19, 9:50 AM - Pes Pallavi: Hehehehe 😁\\n4/26/19, 9:52 AM - Varun.Vardhaman: Manig yavag baru plan maadiri?\\n4/26/19, 10:03 AM - Pes Pallavi: Barrbekk\\n4/26/19, 10:05 AM - Varun.Vardhaman: Sunday baarri\\n4/26/19, 10:09 AM - Pes Pallavi: I ll decide n tell u\\n4/26/19, 10:09 AM - Varun.Vardhaman: Okay\\n4/26/19, 11:19 AM - Varun.Vardhaman: <Media omitted>\\n4/26/19, 11:21 AM - Pes Pallavi: Nycccc😊\\n4/26/19, 10:22 PM - Varun.Vardhaman: Good night\\n4/27/19, 10:26 AM - Varun.Vardhaman: Decided?\\n4/27/19, 10:26 AM - Pes Pallavi: No..\\n4/27/19, 11:01 AM - Varun.Vardhaman: Decide\\n4/27/19, 11:08 AM - Pes Pallavi: Huu\\n4/28/19, 1:48 PM - Varun.Vardhaman: Decided?\\n4/28/19, 1:57 PM - Pes Pallavi: No ra... Doddamma has cm hm\\n4/28/19, 2:10 PM - Varun.Vardhaman: Ok decide later\\n4/28/19, 2:12 PM - Pes Pallavi: Yenn maad kattiirii\\n4/28/19, 2:12 PM - Varun.Vardhaman: Sumne kunttidde odkonta\\n4/28/19, 2:12 PM - Pes Pallavi: Hmm study tym\\n4/28/19, 2:13 PM - Varun.Vardhaman: Uta time\\n4/28/19, 2:13 PM - Varun.Vardhaman: Uta maadbeku\\n4/28/19, 2:13 PM - Varun.Vardhaman: Nimda uta?\\n4/28/19, 2:13 PM - Pes Pallavi: Maadu maadu\\n4/28/19, 2:13 PM - Pes Pallavi: I had\\n5/7/19, 12:27 PM - Varun.Vardhaman: Happy birthday to your sister...🍻🥳\\n5/7/19, 12:30 PM - Pes Pallavi: Thank you ra😊\\n5/7/19, 12:30 PM - Pes Pallavi: Bdw I m in blore💃🏻\\n5/7/19, 12:31 PM - Varun.Vardhaman: Ohh..\\n5/7/19, 12:31 PM - Varun.Vardhaman: Yen kelasa?\\n5/7/19, 12:32 PM - Pes Pallavi: To finalize Final year project\\n5/7/19, 12:32 PM - Pes Pallavi: 😁😁😁\\n5/7/19, 12:32 PM - Varun.Vardhaman: Oh Mtech project\\n5/7/19, 12:33 PM - Varun.Vardhaman: Mummy nu ega bengaluru dag adara\\n5/7/19, 12:48 PM - Pes Pallavi: Huuu\\n5/7/19, 12:48 PM - Pes Pallavi: Wer\\n5/7/19, 1:13 PM - Varun.Vardhaman: You deleted this message\\n5/7/19, 1:13 PM - Pes Pallavi: Yenn ra\\n5/7/19, 1:14 PM - Varun.Vardhaman: By mistake evatta prasadandandu birthday\\n5/7/19, 1:14 PM - Varun.Vardhaman: Jayanagar 9th block\\n5/7/19, 1:45 PM - Pes Pallavi: Ohhh ok ok\\n5/27/19, 9:53 AM - Varun.Vardhaman: Happy birthday to him...🥳🥳😍\\n5/27/19, 10:05 AM - Pes Pallavi: Thank you ra😊\\n5/27/19, 10:06 AM - Varun.Vardhaman: Yen maadatiri?\\n5/27/19, 10:06 AM - Pes Pallavi: Summ kunthiiviii\\n5/27/19, 10:06 AM - Pes Pallavi: Neeva..!?!\\n5/27/19, 10:07 AM - Varun.Vardhaman: Test series odkonta kuntivri\\n5/27/19, 10:08 AM - Pes Pallavi: Odhu odhuu☺\\n6/3/19, 12:09 AM - Pes Pallavi: Happyyyyyyyy happyyyyyyyy happyyy Bday ra🎈🎁🎊🎂✨😊\\n6/3/19, 2:00 AM - Varun.Vardhaman: Thanks a lot😊😊\\n6/3/19, 8:08 AM - Varun.Vardhaman: Thank you\\n6/7/19, 10:15 PM - Varun.Vardhaman: Oye \\nVeronica Alexander\\n6/7/19, 10:15 PM - Pes Pallavi: Hehehehehe\\n6/7/19, 10:15 PM - Pes Pallavi: Hellloooo\\n6/7/19, 10:15 PM - Pes Pallavi: Yenn nadsiiriii\\n6/7/19, 10:15 PM - Varun.Vardhaman: Sumna kuntivri\\n6/7/19, 10:15 PM - Pes Pallavi: Mr.Insight😉\\n6/7/19, 10:16 PM - Pes Pallavi: Oota...!?!\\n6/7/19, 10:16 PM - Pes Pallavi: Shwet had called me\\n6/7/19, 10:17 PM - Varun.Vardhaman: Nanu adna helak pgone maadide\\n6/7/19, 10:17 PM - Pes Pallavi: will it b ok on Thursday...!?!\\n6/7/19, 10:17 PM - Varun.Vardhaman: Coming Thursday..\\n6/7/19, 10:17 PM - Pes Pallavi: Huu\\n6/7/19, 10:18 PM - Varun.Vardhaman: Anytime is fine\\n6/7/19, 10:18 PM - Pes Pallavi: Mrng Bandha, Wil return at evng\\n6/7/19, 10:18 PM - Pes Pallavi: Ok done\\n6/7/19, 10:18 PM - Varun.Vardhaman: Okay you can stay also😊\\n6/7/19, 10:19 PM - Pes Pallavi: Wil stay next tym ra👍🏻🙂\\nBcozzz of shortage of tym\\n6/7/19, 10:19 PM - Varun.Vardhaman: Okay\\n6/7/19, 10:20 PM - Pes Pallavi: Wat aunt is dng\\n6/7/19, 10:20 PM - Varun.Vardhaman: Facebook , whatsapp\\n6/7/19, 10:20 PM - Pes Pallavi: Hahahahahaha😂🤭\\n6/7/19, 10:20 PM - Varun.Vardhaman: 😀\\n6/7/19, 10:20 PM - Pes Pallavi: Nee yenn maad kattii\\n6/7/19, 10:21 PM - Varun.Vardhaman: Naa evatta instagram full day\\n6/7/19, 10:25 PM - Varun.Vardhaman: Niv yen maadatiri?\\n6/7/19, 11:02 PM - Pes Pallavi: Cleaning my room😬\\n6/7/19, 11:02 PM - Varun.Vardhaman: 😀👍\\n6/7/19, 11:03 PM - Pes Pallavi: 😫😫😫😫😫\\n6/7/19, 11:03 PM - Varun.Vardhaman: Yka?\\n6/7/19, 11:05 PM - Pes Pallavi: Feeling damn sleepy\\n6/7/19, 11:06 PM - Varun.Vardhaman: 😀 sleep..\\n6/7/19, 11:14 PM - Pes Pallavi: Hmmm😴\\n6/7/19, 11:15 PM - Varun.Vardhaman: Good night sweet dreams..\\n6/7/19, 11:17 PM - Pes Pallavi: Good nyte ra🎊\\n6/7/19, 11:18 PM - Varun.Vardhaman: 😊\\n6/7/19, 11:18 PM - Pes Pallavi: Sleep peacefully☺\\n6/7/19, 11:19 PM - Varun.Vardhaman: Yeah..😊\\n6/12/19, 11:27 AM - Varun.Vardhaman: Hey hi\\n6/12/19, 11:50 AM - Pes Pallavi: Hellooo\\n6/12/19, 7:27 PM - Varun.Vardhaman: Pallz\\n6/12/19, 7:29 PM - Varun.Vardhaman: Nale belligge bega baa...\\n6/12/19, 7:31 PM - Varun.Vardhaman: Matta ni monnin gate madhyana banda sanjik hogbeda\\n6/12/19, 10:11 PM - Pes Pallavi: Huuu barrthiivii\\n6/12/19, 10:42 PM - Varun.Vardhaman: 👍\\n6/12/19, 11:14 PM - Pes Pallavi: No breakfast ra, only lunch ll b enough😋\\n6/13/19, 2:45 AM - Varun.Vardhaman: Okay call me when shweta reachs Bagalkot\\n6/13/19, 7:04 AM - Pes Pallavi: Ok ok\\n6/13/19, 9:11 PM - Pes Pallavi: <Media omitted>\\n6/13/19, 9:11 PM - Pes Pallavi: <Media omitted>\\n6/13/19, 9:11 PM - Pes Pallavi: <Media omitted>\\n6/14/19, 3:25 PM - Pes Pallavi: <Media omitted>\\n6/14/19, 3:25 PM - Pes Pallavi: <Media omitted>\\n6/14/19, 3:25 PM - Pes Pallavi: <Media omitted>\\n6/14/19, 8:21 PM - Pes Pallavi: <Media omitted>\\n6/14/19, 8:21 PM - Pes Pallavi: <Media omitted>\\n6/14/19, 8:21 PM - Pes Pallavi: <Media omitted>\\n6/14/19, 8:21 PM - Pes Pallavi: <Media omitted>\\n6/14/19, 8:21 PM - Pes Pallavi: <Media omitted>\\n6/14/19, 8:21 PM - Pes Pallavi: <Media omitted>\\n6/14/19, 8:21 PM - Pes Pallavi: <Media omitted>\\n6/14/19, 8:21 PM - Pes Pallavi: <Media omitted>\\n6/14/19, 8:21 PM - Pes Pallavi: <Media omitted>\\n6/14/19, 8:21 PM - Pes Pallavi: <Media omitted>\\n6/14/19, 8:21 PM - Pes Pallavi: <Media omitted>\\n6/14/19, 8:21 PM - Pes Pallavi: <Media omitted>\\n6/14/19, 8:21 PM - Pes Pallavi: <Media omitted>\\n6/14/19, 8:21 PM - Pes Pallavi: <Media omitted>\\n6/14/19, 8:21 PM - Pes Pallavi: <Media omitted>\\n6/14/19, 8:21 PM - Pes Pallavi: <Media omitted>\\n6/14/19, 8:21 PM - Pes Pallavi: <Media omitted>\\n6/14/19, 8:21 PM - Pes Pallavi: <Media omitted>\\n6/14/19, 8:21 PM - Pes Pallavi: <Media omitted>\\n6/14/19, 8:21 PM - Pes Pallavi: <Media omitted>\\n6/14/19, 8:21 PM - Pes Pallavi: <Media omitted>\\n6/14/19, 8:21 PM - Pes Pallavi: <Media omitted>\\n6/14/19, 8:21 PM - Pes Pallavi: <Media omitted>\\n6/14/19, 8:21 PM - Pes Pallavi: <Media omitted>\\n6/14/19, 8:21 PM - Pes Pallavi: <Media omitted>\\n6/14/19, 8:21 PM - Pes Pallavi: <Media omitted>\\n6/14/19, 8:21 PM - Pes Pallavi: <Media omitted>\\n6/14/19, 8:21 PM - Pes Pallavi: <Media omitted>\\n6/14/19, 8:21 PM - Pes Pallavi: <Media omitted>\\n6/14/19, 8:21 PM - Pes Pallavi: <Media omitted>\\n6/14/19, 8:21 PM - Pes Pallavi: <Media omitted>\\n6/14/19, 8:21 PM - Pes Pallavi: <Media omitted>\\n6/14/19, 8:21 PM - Pes Pallavi: <Media omitted>\\n6/14/19, 8:21 PM - Pes Pallavi: <Media omitted>\\n6/14/19, 8:21 PM - Pes Pallavi: <Media omitted>\\n6/14/19, 8:21 PM - Pes Pallavi: <Media omitted>\\n6/14/19, 8:21 PM - Pes Pallavi: <Media omitted>\\n6/14/19, 8:21 PM - Pes Pallavi: <Media omitted>\\n6/14/19, 8:26 PM - Pes Pallavi: Send me pics ra\\n6/14/19, 8:28 PM - Varun.Vardhaman: Seat siktra?\\n6/14/19, 8:30 PM - Pes Pallavi: Huu, conductor seat sikkethii🤭\\n6/14/19, 8:30 PM - Varun.Vardhaman: 😀👍\\n6/14/19, 8:53 PM - Varun.Vardhaman: <Media omitted>\\n6/14/19, 8:53 PM - Varun.Vardhaman: <Media omitted>\\n6/14/19, 8:53 PM - Varun.Vardhaman: <Media omitted>\\n6/14/19, 8:54 PM - Varun.Vardhaman: <Media omitted>\\n6/14/19, 8:54 PM - Varun.Vardhaman: <Media omitted>\\n6/14/19, 8:54 PM - Varun.Vardhaman: <Media omitted>\\n6/14/19, 8:54 PM - Varun.Vardhaman: <Media omitted>\\n6/14/19, 8:54 PM - Varun.Vardhaman: <Media omitted>\\n6/14/19, 8:54 PM - Varun.Vardhaman: <Media omitted>\\n6/14/19, 8:54 PM - Varun.Vardhaman: <Media omitted>\\n6/14/19, 8:54 PM - Varun.Vardhaman: <Media omitted>\\n6/14/19, 8:54 PM - Varun.Vardhaman: <Media omitted>\\n6/14/19, 8:54 PM - Varun.Vardhaman: <Media omitted>\\n6/14/19, 8:54 PM - Varun.Vardhaman: <Media omitted>\\n6/14/19, 8:54 PM - Varun.Vardhaman: <Media omitted>\\n6/14/19, 8:54 PM - Varun.Vardhaman: <Media omitted>\\n6/14/19, 8:54 PM - Varun.Vardhaman: <Media omitted>\\n6/14/19, 8:54 PM - Varun.Vardhaman: <Media omitted>\\n6/14/19, 8:54 PM - Varun.Vardhaman: <Media omitted>\\n6/14/19, 8:54 PM - Varun.Vardhaman: <Media omitted>\\n6/14/19, 8:54 PM - Varun.Vardhaman: <Media omitted>\\n6/14/19, 8:54 PM - Varun.Vardhaman: <Media omitted>\\n6/14/19, 8:54 PM - Varun.Vardhaman: <Media omitted>\\n6/14/19, 8:54 PM - Varun.Vardhaman: <Media omitted>\\n6/14/19, 8:54 PM - Varun.Vardhaman: <Media omitted>\\n6/14/19, 8:54 PM - Varun.Vardhaman: <Media omitted>\\n6/14/19, 8:54 PM - Varun.Vardhaman: <Media omitted>\\n6/14/19, 8:54 PM - Varun.Vardhaman: <Media omitted>\\n6/14/19, 8:54 PM - Varun.Vardhaman: <Media omitted>\\n6/14/19, 9:53 PM - Varun.Vardhaman: Reach aadi?\\n6/14/19, 9:54 PM - Pes Pallavi: Huuu\\n6/14/19, 9:54 PM - Pes Pallavi: Juss nw\\n6/14/19, 9:54 PM - Varun.Vardhaman: 👍\\n6/14/19, 10:31 PM - Pes Pallavi: Heyy ra\\n6/14/19, 10:31 PM - Pes Pallavi: Aequs daaga refer maadak hella uncle ga\\n6/14/19, 10:33 PM - Varun.Vardhaman: Okay maatadtini\\n6/15/19, 2:41 PM - Varun.Vardhaman: Pappa jote maatadinra\\n6/15/19, 2:41 PM - Varun.Vardhaman: Avara keli heltaranta..\\n6/15/19, 2:42 PM - Varun.Vardhaman: By the way ninda court case yen aata?\\n6/15/19, 3:22 PM - Pes Pallavi: Ok ra\\n6/15/19, 3:23 PM - Pes Pallavi: AC change aagyaranta, so got postponed\\n6/15/19, 3:23 PM - Varun.Vardhaman: Ayyo ok\\n6/15/19, 3:23 PM - Varun.Vardhaman: Internship\\n6/15/19, 3:23 PM - Varun.Vardhaman: Yavag maadati~\\n6/15/19, 3:23 PM - Varun.Vardhaman: ?\\n6/15/19, 3:24 PM - Varun.Vardhaman: Which month?\\n6/15/19, 4:35 PM - Pes Pallavi: July 15 onwards\\n6/15/19, 4:35 PM - Pes Pallavi: Anytym\\n6/15/19, 4:37 PM - Varun.Vardhaman: Okay\\n6/16/19, 11:34 AM - Varun.Vardhaman: Hi\\n6/16/19, 11:35 AM - Pes Pallavi: Hellooo\\n6/16/19, 11:36 AM - Pes Pallavi: Yenn nadsiiriii\\n6/16/19, 11:37 AM - Varun.Vardhaman: Just kutidde\\n6/16/19, 11:38 AM - Pes Pallavi: Yida type maadaakk yiissht tym togondii🤭\\n6/16/19, 11:39 AM - Varun.Vardhaman: 😜 bere yeno kelbek ankondidde\\n6/16/19, 11:39 AM - Pes Pallavi: Ask knw\\n6/16/19, 11:40 AM - Varun.Vardhaman: Later\\n6/16/19, 11:40 AM - Pes Pallavi: Noo...\\n6/16/19, 11:40 AM - Pes Pallavi: Eega kelbekkkk\\n6/16/19, 11:40 AM - Pes Pallavi: Jaldiiii kela\\n6/16/19, 11:40 AM - Varun.Vardhaman: Wait\\n6/16/19, 11:42 AM - Varun.Vardhaman: nindu mallikarjun avardu complete break up ? There is no chances at all  that you get together.  ?\\n6/16/19, 11:43 AM - Pes Pallavi: Why\\n6/16/19, 11:43 AM - Pes Pallavi: !?!\\n6/16/19, 11:43 AM - Varun.Vardhaman: Just asked\\n6/16/19, 11:44 AM - Pes Pallavi: Yess💯%\\n6/16/19, 11:44 AM - Pes Pallavi: Bcozz I don't suit them\\n6/16/19, 11:45 AM - Varun.Vardhaman: Okay\\n6/16/19, 11:45 AM - Pes Pallavi: He deserves the best girl, the best girl\\n6/16/19, 11:45 AM - Pes Pallavi: Tell me nw\\n6/16/19, 11:45 AM - Pes Pallavi: Why did u ask\\n6/16/19, 11:46 AM - Varun.Vardhaman: Just asked\\n6/16/19, 11:49 AM - Pes Pallavi: Hmm ok\\n6/16/19, 11:49 AM - Pes Pallavi: What's planning fr sunday😋\\n6/16/19, 11:50 AM - Varun.Vardhaman: Ivatta yella aunty gol namma manig band world cup match nodtaranta...😓\\n6/16/19, 11:50 AM - Pes Pallavi: But smtyms I feel lyk , it's all abt destiny\\n6/16/19, 11:51 AM - Pes Pallavi: Ayyooooo🤭🤣🤣🤣 enjoyy\\n6/16/19, 11:51 AM - Varun.Vardhaman: Means\\n6/16/19, 11:52 AM - Pes Pallavi: Wait\\n6/16/19, 11:52 AM - Varun.Vardhaman: Ok\\n6/16/19, 11:59 AM - Pes Pallavi: <Media omitted>\\n6/16/19, 12:00 PM - Varun.Vardhaman: Means there is some hopes....\\n6/16/19, 12:01 PM - Pes Pallavi: No no... I didn't mean dat\\n6/16/19, 12:02 PM - Varun.Vardhaman: Okay i got it\\n6/16/19, 12:03 PM - Pes Pallavi: Marriage n all aa nt my cup of Tea/coffee ra🤣🤣🤭\\nBcozzz life has been making me realise dat thing...\\n6/16/19, 12:04 PM - Pes Pallavi: Baldw Match yesshtotthiga ada\\n6/16/19, 12:04 PM - Pes Pallavi: Bdw*\\n6/16/19, 12:04 PM - Pes Pallavi: Timing...!?!\\n6/16/19, 12:05 PM - Varun.Vardhaman: 🙆\\u200d♂\\n6/16/19, 12:05 PM - Varun.Vardhaman: 3 pm\\n6/16/19, 12:06 PM - Pes Pallavi: Khareguu, yenn bage Yess andhiidhniii, aduu hinga aagii bidtha... So\\n6/16/19, 12:07 PM - Pes Pallavi: 1st n last proposal dat I showed sm interest smhw\\n6/16/19, 12:08 PM - Pes Pallavi: Apparently enough.. Avoiding marriage matter completely...\\nOnly Career now...✌🏻\\n6/16/19, 12:08 PM - Varun.Vardhaman: Make marraige as your cup of wine the more time it takes it tastes betyer\\n6/16/19, 12:08 PM - Pes Pallavi: Hahahahaha👌🏻😂\\nBut Im avoiding drinks tooo\\n6/16/19, 12:09 PM - Varun.Vardhaman: Why?\\n6/16/19, 12:11 PM - Varun.Vardhaman: Better focus on carrier now..\\nEnjoy the match today\\n6/16/19, 12:12 PM - Pes Pallavi: Yupp..✌🏻☺\\nU too\\n6/16/19, 12:13 PM - Varun.Vardhaman: 👍\\n6/16/19, 12:15 PM - Pes Pallavi: Aunty yenn maad kathaarr\\n6/16/19, 12:20 PM - Varun.Vardhaman: Adagi maadatara..\\n6/16/19, 12:21 PM - Varun.Vardhaman: Namma aunty yen maadatara\\n6/16/19, 12:23 PM - Pes Pallavi: Cleaning fridge\\n6/17/19, 1:31 PM - Varun.Vardhaman: <Media omitted>\\n6/17/19, 2:31 PM - Pes Pallavi: Nee attend maad kattii..!?!\\n6/17/19, 5:52 PM - Varun.Vardhaman: Illa ninga internship ge yenadru help aagabhudu anta kaliside\\n6/17/19, 6:08 PM - Pes Pallavi: Yaa\\n6/17/19, 6:38 PM - Varun.Vardhaman: 👍\\n6/17/19, 6:39 PM - Pes Pallavi: Uncle kelidranthana\\n6/17/19, 6:57 PM - Varun.Vardhaman: Hu obru ille nirani valaga kelasa maadi alli aqs  hogyara anta so avara jote matadyar avar keli heltini andiddar ..\\n6/17/19, 7:51 PM - Pes Pallavi: Ok ok\\n6/17/19, 7:53 PM - Varun.Vardhaman: Nandu e sala yenara clear aagalillandra i ill try for job and side by side i prepare for the exam..\\n6/17/19, 8:46 PM - Pes Pallavi: Good good\\n6/18/19, 7:36 AM - Pes Pallavi: B-Tech myaale job yidhra nu kelra, fr me\\n6/18/19, 8:49 AM - Varun.Vardhaman: Okay\\n6/18/19, 8:52 AM - Varun.Vardhaman: Attend aagi baa..\\n6/18/19, 8:52 AM - Pes Pallavi: Only in Aequs\\n6/18/19, 8:52 AM - Pes Pallavi: Yaa\\n6/18/19, 8:53 AM - Varun.Vardhaman: What if you didnt get there..\\n6/18/19, 8:54 AM - Pes Pallavi: So only, confirm it by July 1st if possible... I ll check fr others...\\n6/18/19, 8:54 AM - Pes Pallavi: If nt, I ll check fr others\\n6/18/19, 9:01 AM - Varun.Vardhaman: 👍👍\\n6/18/19, 11:47 AM - Pes Pallavi: <Media omitted>\\n6/18/19, 11:48 AM - Pes Pallavi: This message was deleted\\n6/18/19, 11:52 AM - Pes Pallavi: <Media omitted>\\n6/18/19, 12:21 PM - Varun.Vardhaman: What is the role?\\n6/18/19, 12:24 PM - Pes Pallavi: <Media omitted>\\n6/18/19, 12:24 PM - Pes Pallavi: <Media omitted>\\n6/18/19, 12:27 PM - Varun.Vardhaman: Okay\\n6/18/19, 12:31 PM - Varun.Vardhaman: Pallavi why dont you try in bengaluru..\\nI guess you have more opportunities there..\\n6/18/19, 12:31 PM - Pes Pallavi: Nt nw\\n6/18/19, 12:32 PM - Varun.Vardhaman: Apply in internshala...\\nYou may find in belagavi also\\n6/18/19, 12:41 PM - Pes Pallavi: Okhayee\\n6/18/19, 12:42 PM - Varun.Vardhaman: <Media omitted>\\n6/18/19, 12:44 PM - Pes Pallavi: I wanna apply\\n6/18/19, 12:45 PM - Varun.Vardhaman: Apply\\n6/18/19, 12:54 PM - Pes Pallavi: Sigavalda adraaga\\n6/18/19, 12:56 PM - Varun.Vardhaman: <Media omitted>\\n6/18/19, 1:02 PM - Varun.Vardhaman: Sikta\\n6/18/19, 1:02 PM - Varun.Vardhaman: ?\\n6/18/19, 1:24 PM - Pes Pallavi: Noo ra\\n6/18/19, 1:24 PM - Pes Pallavi: Send me link\\n6/18/19, 1:24 PM - Varun.Vardhaman: I cant send the link\\n6/18/19, 1:24 PM - Varun.Vardhaman: Do one thing\\n6/18/19, 1:25 PM - Varun.Vardhaman: You sign up\\n6/18/19, 1:25 PM - Varun.Vardhaman: Send me login id and password\\n6/18/19, 1:26 PM - Pes Pallavi: Wait I ll try once agn\\n6/18/19, 1:55 PM - Pes Pallavi: Done ra👍🏻\\n6/18/19, 1:58 PM - Varun.Vardhaman: 👍👍all the best\\n6/18/19, 1:59 PM - Varun.Vardhaman: Ena bhall adava nod electronics engineering\\n6/18/19, 1:59 PM - Varun.Vardhaman: Yellaku apply maad\\n6/18/19, 2:17 PM - Pes Pallavi: Huuu👍🏻 ty ra\\n6/18/19, 2:43 PM - Varun.Vardhaman: 😊\\n6/23/19, 2:27 PM - Varun.Vardhaman: Paallaz\\n6/24/19, 5:58 PM - Pes Pallavi: Hellooo\\n6/24/19, 6:13 PM - Varun.Vardhaman: Madam full busy\\n6/24/19, 6:13 PM - Pes Pallavi: Yenn nadsiiriii\\n6/24/19, 6:13 PM - Pes Pallavi: Ayya, nt bzy\\n6/24/19, 6:13 PM - Varun.Vardhaman: Maggie tinnatini\\n6/24/19, 6:14 PM - Varun.Vardhaman: Niv yen nadsiri?\\n6/24/19, 6:14 PM - Pes Pallavi: Ohh yummm😋😋😋\\n6/24/19, 6:14 PM - Pes Pallavi: Preparing T\\n6/24/19, 6:15 PM - Varun.Vardhaman: Ok \\nDid you apply for any internship...?\\n6/24/19, 6:16 PM - Pes Pallavi: Yaa\\n6/24/19, 6:16 PM - Pes Pallavi: Embedded systems\\n6/24/19, 6:17 PM - Varun.Vardhaman: Any response?\\n6/24/19, 6:17 PM - Pes Pallavi: No\\n6/24/19, 6:17 PM - Pes Pallavi: Uncle kelidrana...!?!\\n6/24/19, 6:18 PM - Varun.Vardhaman: Pappa kelidra  but avara yenu correctaagi respond maadvar..\\n6/24/19, 6:18 PM - Pes Pallavi: Ohhh\\n6/24/19, 6:18 PM - Pes Pallavi: I ll search for others\\n6/24/19, 6:19 PM - Varun.Vardhaman: Namm factory valaga bekadra hel kodastini...😀\\n6/24/19, 6:19 PM - Pes Pallavi: Hahahahahaha\\n6/24/19, 6:19 PM - Varun.Vardhaman: You try searching side by\\n6/24/19, 6:21 PM - Pes Pallavi: Yaaa👍🏻\\n6/24/19, 7:29 PM - Varun.Vardhaman: 🙄\\n6/24/19, 7:30 PM - Varun.Vardhaman: Ega yadak?\\n6/24/19, 7:35 PM - Pes Pallavi: Found in gallery ra\\n6/24/19, 7:35 PM - Varun.Vardhaman: Old one\\n6/24/19, 7:35 PM - Pes Pallavi: Yaa\\n6/24/19, 7:35 PM - Varun.Vardhaman: Hey\\n6/24/19, 7:36 PM - Varun.Vardhaman: Pappa spoke with one more person..\\n6/24/19, 7:36 PM - Pes Pallavi: Ohh wat did they aay\\n6/24/19, 7:36 PM - Pes Pallavi: Say\\n6/24/19, 7:38 PM - Varun.Vardhaman: He spoke with friend where his friend has some connection with aqs .. by tm or day after tm they ill call back\\n6/24/19, 7:39 PM - Pes Pallavi: Ohhh okk...\\n6/24/19, 7:39 PM - Pes Pallavi: Hope🤞🏻\\n6/24/19, 7:39 PM - Varun.Vardhaman: 👍\\n6/24/19, 8:22 PM - Varun.Vardhaman: Vardhaman \\n9164675251\\n6/24/19, 8:23 PM - Varun.Vardhaman: Hey call him\\n6/24/19, 8:23 PM - Varun.Vardhaman: His name is vardhaman\\n6/24/19, 8:23 PM - Varun.Vardhaman: He from Aqs\\n6/24/19, 8:31 PM - Varun.Vardhaman: Say parappanavar sir told\\n6/24/19, 8:35 PM - Pes Pallavi: Done👍🏻\\n6/24/19, 8:36 PM - Pes Pallavi: I spoke to dem, they ll let u knw by tommo\\n6/24/19, 8:36 PM - Varun.Vardhaman: Oh spoke?\\n6/24/19, 8:36 PM - Varun.Vardhaman: What did he ask?\\n6/24/19, 8:38 PM - Pes Pallavi: Nthng he asked, he said that he ll talk to HR\\n6/24/19, 8:39 PM - Varun.Vardhaman: Fine👍\\n6/24/19, 8:45 PM - Pes Pallavi: But he said dat Aequs is nt fr EC ppl ra\\n6/24/19, 8:45 PM - Varun.Vardhaman: Mech\\n6/24/19, 8:45 PM - Pes Pallavi: Only Mech, civil n Electrical\\n6/24/19, 8:46 PM - Pes Pallavi: Feeling bad\\n6/24/19, 8:46 PM - Varun.Vardhaman: Aircraft spare parts produce aagtava\\n6/24/19, 8:46 PM - Varun.Vardhaman: He said about anathor company right?\\n6/24/19, 8:47 PM - Pes Pallavi: Houda, Ave website check maadiddhe but smwer hope yiittha EC gu opportunities adaav antha\\n6/24/19, 8:48 PM - Pes Pallavi: Yup... He has got switched to sm other Brazil company itseems\\n6/24/19, 8:48 PM - Pes Pallavi: Which is dat company\\n6/24/19, 8:48 PM - Varun.Vardhaman: I dont know i am not in contact with him...\\n6/24/19, 8:49 PM - Varun.Vardhaman: My father called him\\n6/24/19, 8:49 PM - Pes Pallavi: Who is he...!?! Uncle frnd huh\\n6/24/19, 8:49 PM - Pes Pallavi: Ur caste only😁\\n6/24/19, 8:49 PM - Varun.Vardhaman: Han\\n6/24/19, 8:49 PM - Varun.Vardhaman: Actually a relative\\n6/24/19, 8:50 PM - Pes Pallavi: Nimm guda koodii Jain mandhii bhaala pariuchay aagakathethiii😁\\n6/24/19, 8:50 PM - Varun.Vardhaman: 😀\\n6/24/19, 8:53 PM - Pes Pallavi: Hahahahahaha\\n6/24/19, 8:54 PM - Varun.Vardhaman: Namma pappa illi job ga hog andiddra nana beda andidde\\n6/24/19, 8:54 PM - Pes Pallavi: Yelliii\\n6/24/19, 8:54 PM - Pes Pallavi: Aequs huh\\n6/24/19, 8:54 PM - Varun.Vardhaman: Han\\n6/24/19, 8:54 PM - Pes Pallavi: Areyy whaaa\\n6/24/19, 8:54 PM - Pes Pallavi: Hogg bekiilla\\n6/24/19, 8:54 PM - Pes Pallavi: Masthh opportunity\\n6/24/19, 8:55 PM - Varun.Vardhaman: College passout aadmele helidra..\\n6/24/19, 8:55 PM - Varun.Vardhaman: I was not intrested\\n6/24/19, 8:56 PM - Pes Pallavi: U can join now\\n6/24/19, 8:56 PM - Varun.Vardhaman: I am not trying\\n6/24/19, 8:56 PM - Varun.Vardhaman: I got some other plans..\\n6/24/19, 8:56 PM - Pes Pallavi: Whyyyyy\\n6/24/19, 8:57 PM - Pes Pallavi: Technical or Public sector\\n6/24/19, 8:58 PM - Varun.Vardhaman: Technical if i did not clear. This prlims\\n6/24/19, 8:58 PM - Pes Pallavi: Ohh ok\\n6/24/19, 8:59 PM - Varun.Vardhaman: Pay scale is less and not much growth\\n6/24/19, 9:00 PM - Pes Pallavi: But North Karnataka daaga byaare yenn aithiii, EC ga scope yell aithii\\n6/24/19, 9:00 PM - Varun.Vardhaman: Hubballi\\n6/24/19, 9:02 PM - Pes Pallavi: Alliii yaav yaav adhaav\\n6/24/19, 9:04 PM - Varun.Vardhaman: Ashta idea illa\\n6/24/19, 9:29 PM - Pes Pallavi: Hmmm\\n6/26/19, 11:21 AM - Varun.Vardhaman: Pallavi\\n6/26/19, 11:22 AM - Varun.Vardhaman: Ninda resume send maadra..\\n6/26/19, 11:23 AM - Varun.Vardhaman: <Media omitted>\\n6/26/19, 11:29 AM - Pes Pallavi: Ok ok\\n6/26/19, 11:33 AM - Pes Pallavi: I hav sent him...\\n6/26/19, 11:34 AM - Varun.Vardhaman: Okay\\n6/26/19, 11:34 AM - Pes Pallavi: Yenn nadsiiriii\\n6/26/19, 11:34 AM - Varun.Vardhaman: Just reading\\n6/26/19, 11:34 AM - Pes Pallavi: ESI results bitren..!?!\\n6/26/19, 11:35 AM - Varun.Vardhaman: Illara onda varsha aadmele bidtara...\\n6/26/19, 11:40 AM - Varun.Vardhaman: Kpsc hanebarah hanga\\n6/26/19, 11:40 AM - Varun.Vardhaman: Niv yen nadsiri?\\n6/26/19, 11:41 AM - Varun.Vardhaman: Dp👌\\n6/26/19, 12:00 PM - Pes Pallavi: Studying\\n6/26/19, 12:01 PM - Pes Pallavi: Thank u ra\\n6/26/19, 12:01 PM - Pes Pallavi: Hmmm😕\\n6/26/19, 6:54 PM - Varun.Vardhaman: You deleted this message\\n6/26/19, 6:54 PM - Varun.Vardhaman: You deleted this message\\n6/26/19, 6:54 PM - Varun.Vardhaman: You deleted this message\\n6/26/19, 6:54 PM - Varun.Vardhaman: You deleted this message\\n6/26/19, 7:18 PM - Pes Pallavi: Wat happnd\\n6/26/19, 7:18 PM - Varun.Vardhaman: By mistake\\n6/26/19, 7:18 PM - Pes Pallavi: 4 msgs\\n6/26/19, 7:19 PM - Varun.Vardhaman: 4 files iddu mummy gi forward maadbekadra by mistake nindu select aata..\\n6/26/19, 7:20 PM - Pes Pallavi: Hmmm ok☺\\n6/29/19, 11:22 AM - Pes Pallavi: Hii ra\\n6/29/19, 10:48 PM - Varun.Vardhaman: Good night\\n6/29/19, 11:03 PM - Pes Pallavi: Good nyte ra\\n7/2/19, 2:00 PM - Varun.Vardhaman: Hi\\n7/2/19, 2:12 PM - Pes Pallavi: Hellooo\\n7/2/19, 2:13 PM - Varun.Vardhaman: Internship da helidi? Avarigi?\\n7/2/19, 2:14 PM - Pes Pallavi: No.. yinnu yiilla\\n7/2/19, 2:14 PM - Pes Pallavi: I ll call him tday at evng\\n7/2/19, 2:15 PM - Varun.Vardhaman: Okay..👍\\n7/2/19, 2:17 PM - Pes Pallavi: Y\\n7/2/19, 2:18 PM - Varun.Vardhaman: Avara try maadtirtara adakka..\\nAmele nanna friend obbarige internship bekagitta adakka..\\n7/2/19, 2:19 PM - Varun.Vardhaman: Avardu PE metech so\\n7/2/19, 2:25 PM - Pes Pallavi: Ohh ok ok\\n7/2/19, 2:25 PM - Varun.Vardhaman: Yen nadsiri?\\n7/2/19, 2:29 PM - Pes Pallavi: Lawyer kade bandeniii\\n7/2/19, 2:29 PM - Varun.Vardhaman: Oh okay carry on\\n7/2/19, 2:30 PM - Pes Pallavi: Ok👍🏻😕\\n7/2/19, 10:24 PM - Pes Pallavi: Hii ra\\n7/2/19, 10:24 PM - Pes Pallavi: I spoke to him\\n7/2/19, 10:24 PM - Pes Pallavi: Avriga helinii yella👍🏻\\n7/2/19, 10:25 PM - Varun.Vardhaman: What did he say?\\n7/2/19, 10:25 PM - Varun.Vardhaman: Okay👍\\n7/2/19, 10:26 PM - Pes Pallavi: Uncle yeno bhaala help madyaarr anthala, he was telling😊\\n7/2/19, 10:27 PM - Varun.Vardhaman: He worked with my father..\\n7/2/19, 10:28 PM - Pes Pallavi: Hmmm nycc👍🏻\\n7/2/19, 10:28 PM - Pes Pallavi: Bhaaaala helakathiidra uncle bagge\\n7/2/19, 10:28 PM - Varun.Vardhaman: Howda..\\n7/2/19, 10:28 PM - Pes Pallavi: Huu ra\\n7/2/19, 10:28 PM - Varun.Vardhaman: Matten helatidra..?\\n7/2/19, 10:28 PM - Pes Pallavi: Kushh aath kelii😁\\n7/2/19, 10:29 PM - Varun.Vardhaman: 😀\\n7/2/19, 10:29 PM - Varun.Vardhaman: My father is the best teacher...\\n7/2/19, 10:30 PM - Pes Pallavi: Yup😎\\n7/2/19, 10:30 PM - Varun.Vardhaman: Matta yen nadsiri?\\n7/2/19, 10:31 PM - Pes Pallavi: Documents ready maadkolakathinii court case saluvagii\\n7/2/19, 10:31 PM - Varun.Vardhaman: Oh yelling bantu case?\\n7/2/19, 10:32 PM - Pes Pallavi: Ayyooo yenn kelthii bida\\n7/2/19, 10:32 PM - Varun.Vardhaman: Yavaga ada hearing?\\n7/2/19, 10:32 PM - Pes Pallavi: 9th\\n7/2/19, 10:33 PM - Varun.Vardhaman: Okay\\n7/4/19, 5:09 PM - Varun.Vardhaman: <Media omitted>\\n7/4/19, 5:19 PM - Pes Pallavi: 👍🏻👌🏻\\n7/4/19, 5:20 PM - Varun.Vardhaman: Pappa is suggesting me to do this..\\n7/4/19, 5:20 PM - Pes Pallavi: Den do knw\\n7/4/19, 5:21 PM - Varun.Vardhaman: Naa yen kalyatino nanga gottagvaat..\\n7/4/19, 5:21 PM - Pes Pallavi: Hahahahaha🤭😁\\n7/4/19, 5:22 PM - Varun.Vardhaman: Nanna life yava domain inda start agatta gottilla...\\n7/4/19, 5:24 PM - Pes Pallavi: Confusion aagkathethiii..\\n7/4/19, 5:24 PM - Varun.Vardhaman: Hu...\\n7/4/19, 5:26 PM - Varun.Vardhaman: Ni metech valaga embedded systems kalitiri?\\n7/4/19, 5:36 PM - Pes Pallavi: Noooooo😕\\n7/4/19, 5:36 PM - Pes Pallavi: Only Communication ra\\n7/4/19, 5:36 PM - Varun.Vardhaman: Okay\\n7/8/19, 8:40 PM - Pes Pallavi: Hii ra\\n7/8/19, 8:41 PM - Pes Pallavi: Yenn maad kattiirriii\\n7/8/19, 8:56 PM - Varun.Vardhaman: Hi...\\n7/8/19, 8:56 PM - Pes Pallavi: Yenn nadsiirii\\n7/8/19, 8:56 PM - Varun.Vardhaman: Traveling\\n7/8/19, 8:57 PM - Pes Pallavi: Y nw\\n7/8/19, 8:57 PM - Varun.Vardhaman: Blr me and my father\\n7/8/19, 8:57 PM - Varun.Vardhaman: Got some work\\n7/8/19, 8:57 PM - Pes Pallavi: Ohh ok\\n7/8/19, 8:57 PM - Varun.Vardhaman: Niv yen maadatiri?\\n7/8/19, 8:58 PM - Pes Pallavi: Helping mom in kitchen\\n7/8/19, 9:01 PM - Pes Pallavi: Aunt is very tensed ra, give her some clarification abt Ur next moves...\\nListen to her words...\\n7/8/19, 9:04 PM - Varun.Vardhaman: What did she tell you..?\\n7/8/19, 9:07 PM - Pes Pallavi: Yeno training choose maadii anthala\\n7/8/19, 9:14 PM - Varun.Vardhaman: Adana nodak hontivi..\\n7/8/19, 9:23 PM - Pes Pallavi: Aunty ga bhaala tension aagethii, avriga correct aagii infrm maad ra..\\n7/8/19, 9:24 PM - Varun.Vardhaman: Aee avarig yeshata helada\\n7/8/19, 9:24 PM - Varun.Vardhaman: First naa job secure aagtini\\n7/8/19, 9:25 PM - Varun.Vardhaman: Ee Sala Nanda prilims clear aagalla\\n7/8/19, 9:26 PM - Varun.Vardhaman: Avara nanga eega madavi maadak nintara..\\n7/8/19, 9:26 PM - Varun.Vardhaman: Avarad yen kelti..\\n7/8/19, 9:26 PM - Varun.Vardhaman: Swalpu future planning Ella avaradu..\\n7/8/19, 9:27 PM - Varun.Vardhaman: I am 22 completed and 23 running now\\n7/8/19, 9:27 PM - Varun.Vardhaman: Ignor her \\nI know what I am doing..\\n7/8/19, 9:32 PM - Pes Pallavi: Yaa but try to make her understand ra, she is getting tensed... \\nBut job wise ninaga yenu prblm yilla, Uncle great influence ninga\\n7/8/19, 9:35 PM - Pes Pallavi: Ayyooooo seriouslyyy🥴\\n7/8/19, 9:41 PM - Varun.Vardhaman: Hu..\\n7/8/19, 9:45 PM - Varun.Vardhaman: Mani valaga nanga odak aagvata\\n7/8/19, 9:46 PM - Pes Pallavi: Dat I told aunty...\\n7/8/19, 9:46 PM - Pes Pallavi: Den fyn ra...👍🏻\\n7/8/19, 9:48 PM - Varun.Vardhaman: 👍\\n7/8/19, 9:58 PM - Varun.Vardhaman: Namma mummy ninga yenare yenare heli disturb maadidra sorry..\\n7/8/19, 9:59 PM - Pes Pallavi: Heyyy nee anthuuu🤦🏻\\u200d♀\\nNthng lyk dat ra...\\n7/8/19, 9:59 PM - Pes Pallavi: Y sorry n all...\\n7/8/19, 9:59 PM - Varun.Vardhaman: 😊\\n7/8/19, 9:59 PM - Pes Pallavi: Happy journey😊\\n7/8/19, 10:00 PM - Varun.Vardhaman: Thank you..\\n7/12/19, 8:35 PM - Pes Pallavi: Oyyy\\n7/12/19, 8:35 PM - Pes Pallavi: Wat happnd ra...!?!\\n7/12/19, 9:05 PM - Varun.Vardhaman: Not in the list\\n7/12/19, 9:06 PM - Varun.Vardhaman: 😓\\n7/12/19, 9:15 PM - Pes Pallavi: Check one more time knw\\n7/12/19, 9:15 PM - Pes Pallavi: I mean properly\\n7/12/19, 9:17 PM - Pes Pallavi: Oyyyy🙄\\n7/12/19, 9:18 PM - Varun.Vardhaman: 100 times\\n7/12/19, 9:19 PM - Pes Pallavi: Seriouslyyyyyy🙄🙄🙄\\n7/12/19, 9:21 PM - Varun.Vardhaman: 😓\\n7/12/19, 9:23 PM - Pes Pallavi: Chiillll ra... \\nNext tym full chindhii vudaysudha😊👍🏻🤟🏻\\n7/12/19, 9:24 PM - Varun.Vardhaman: 🙇\\n7/17/19, 8:46 PM - Varun.Vardhaman: Hi\\n7/17/19, 8:49 PM - Pes Pallavi: Hellooooo\\n7/17/19, 9:37 PM - Pes Pallavi: Yenn maad kattiirriii\\n7/17/19, 10:28 PM - Varun.Vardhaman: Just uta ayitu nimdu?\\n7/17/19, 10:45 PM - Pes Pallavi: Namdhu aayth nodd...\\n7/17/19, 10:46 PM - Pes Pallavi: Yell adiii...!?!\\n7/17/19, 10:46 PM - Varun.Vardhaman: Mani\\n7/17/19, 10:46 PM - Pes Pallavi: Yavag bandi\\n7/17/19, 10:46 PM - Varun.Vardhaman: Avaga next day\\n7/17/19, 10:47 PM - Pes Pallavi: Yenaath hogiddha...!?!\\n7/17/19, 10:47 PM - Varun.Vardhaman: In the mode of decision\\n7/17/19, 10:49 PM - Pes Pallavi: Ohh ok...\\n7/18/19, 7:36 AM - Pes Pallavi: Good morning ra🎊\\n7/18/19, 9:13 AM - Varun.Vardhaman: Very good morning..🎃\\n7/18/19, 9:42 AM - Pes Pallavi: Y pumpkin ra😁\\n7/18/19, 9:42 AM - Varun.Vardhaman: Yen type hogi yeno aata..\\n7/18/19, 9:43 AM - Varun.Vardhaman: Irali bid anta bitte..\\n7/18/19, 10:02 AM - Pes Pallavi: Ok😁\\n7/18/19, 7:33 PM - Varun.Vardhaman: 💯% true\\n7/18/19, 7:43 PM - Pes Pallavi: Yenn nadsiirii\\n7/18/19, 7:43 PM - Varun.Vardhaman: Aptitude..\\n7/18/19, 7:49 PM - Varun.Vardhaman: Niv yen nadsiri..?\\n7/18/19, 7:52 PM - Pes Pallavi: Ohh ok\\n7/18/19, 7:52 PM - Pes Pallavi: This message was deleted\\n7/18/19, 7:52 PM - Pes Pallavi: Tv\\n7/18/19, 7:52 PM - Varun.Vardhaman: You deleted this message\\n7/18/19, 7:53 PM - Varun.Vardhaman: Ok\\n7/18/19, 8:01 PM - Pes Pallavi: Typo mistake ra... So deleted\\n7/18/19, 8:02 PM - Varun.Vardhaman: Yeah I know\\n7/18/19, 8:02 PM - Varun.Vardhaman: I can recall that\\n7/18/19, 8:03 PM - Varun.Vardhaman: it was tb instead of tv\\n7/18/19, 8:06 PM - Pes Pallavi: Yaaaa\\n7/18/19, 8:26 PM - Pes Pallavi: U knw\\n7/26/19, 9:55 PM - Varun.Vardhaman: Good night\\n7/26/19, 9:57 PM - Pes Pallavi: Arreyyy whaaaaa\\n7/26/19, 9:57 PM - Pes Pallavi: U r bck\\n7/26/19, 10:06 PM - Varun.Vardhaman: 😊\\n7/26/19, 10:25 PM - Pes Pallavi: Yenn nadasiirii\\n7/26/19, 10:26 PM - Varun.Vardhaman: Just uta aata nimda?\\n7/26/19, 11:19 PM - Pes Pallavi: Sleeping ra\\n7/27/19, 10:18 AM - Varun.Vardhaman: Good morning..\\n7/27/19, 10:45 AM - Pes Pallavi: Veryy good morning ra🎊\\n8/4/19, 10:52 PM - Pes Pallavi: Happy friendship day🎉🎉\\n8/5/19, 8:48 AM - Varun.Vardhaman: Belated happy friendship day\\n8/12/19, 1:36 PM - Pes Pallavi: Ohhh dp jhorrrr aithiii👌🏻😁\\n8/12/19, 1:40 PM - Varun.Vardhaman: 😀\\n8/12/19, 1:40 PM - Varun.Vardhaman: Yen nadsiri\\n8/12/19, 9:09 PM - Pes Pallavi: Hellooo\\n8/12/19, 9:09 PM - Varun.Vardhaman: Hii\\n8/12/19, 9:09 PM - Pes Pallavi: Oota\\n8/12/19, 9:09 PM - Varun.Vardhaman: Oota ega maadbek.\\n8/12/19, 9:09 PM - Pes Pallavi: Yenn spcl\\n8/12/19, 9:10 PM - Varun.Vardhaman: Chapati and bhaji..\\nWhat about you..?\\n8/12/19, 9:10 PM - Pes Pallavi: Pulav😋\\n8/12/19, 9:10 PM - Varun.Vardhaman: Nice..\\n8/12/19, 9:11 PM - Varun.Vardhaman: Henga nadedada college..?\\n8/12/19, 9:13 PM - Pes Pallavi: 19th start\\n8/12/19, 9:13 PM - Varun.Vardhaman: Internship henga nadyatada..?\\n8/12/19, 9:15 PM - Pes Pallavi: 19th start\\n8/12/19, 9:16 PM - Varun.Vardhaman: Oh vacation..\\n8/12/19, 9:26 PM - Pes Pallavi: Huu\\n8/12/19, 9:59 PM - Varun.Vardhaman: Good night 🌃\\n8/12/19, 10:00 PM - Pes Pallavi: Good nyte🎉😊\\n8/14/19, 5:56 PM - Pes Pallavi: Blore hogiiii bandh ra\\n8/14/19, 5:57 PM - Pes Pallavi: Last week hogiddhe,\\n8/14/19, 5:57 PM - Pes Pallavi: We missed u der\\n8/14/19, 5:58 PM - Varun.Vardhaman: Oh nice yar yar meet aagidri..?\\n8/14/19, 5:59 PM - Pes Pallavi: Shweti frns, Arunii n Me\\n8/14/19, 6:02 PM - Varun.Vardhaman: Oh good\\n8/14/19, 6:02 PM - Varun.Vardhaman: Aruni job bitta anta..\\n8/14/19, 6:04 PM - Varun.Vardhaman: Yeshta divasa hogidde?\\n8/14/19, 6:10 PM - Pes Pallavi: Huuu ra...\\nAvanu nimm category join aada... UPSC\\n8/14/19, 6:10 PM - Pes Pallavi: 3\\n8/14/19, 6:12 PM - Varun.Vardhaman: Good\\n8/14/19, 6:12 PM - Varun.Vardhaman: He jumped into the ocean of upsc..\\n8/14/19, 6:13 PM - Pes Pallavi: Huuuuu ra😁\\n8/14/19, 6:13 PM - Pes Pallavi: IAS Baba\\n8/14/19, 6:14 PM - Varun.Vardhaman: Yeah got to know..\\n8/14/19, 6:16 PM - Pes Pallavi: Neev yenn nadsiri\\n8/14/19, 6:17 PM - Varun.Vardhaman: Na ega blr dag adeeni..\\n8/14/19, 6:18 PM - Varun.Vardhaman: Yarig helbyada\\n8/14/19, 6:19 PM - Pes Pallavi: Ayyoooo\\n8/14/19, 6:19 PM - Pes Pallavi: U shud hav told me knw😳\\nWe wud hav met\\n8/14/19, 6:19 PM - Pes Pallavi: Ok ok\\n8/14/19, 11:33 PM - Pes Pallavi: Good nyte ra🎉😊\\n8/15/19, 8:31 AM - Varun.Vardhaman: Good morning 😊 have a nice day\\n8/15/19, 11:06 AM - Pes Pallavi: Happy Independence day🎉\\n8/15/19, 11:08 AM - Varun.Vardhaman: <Media omitted>\\n8/18/19, 11:06 AM - Pes Pallavi: Good morning ra🎉\\n8/18/19, 11:10 AM - Varun.Vardhaman: Very good morning have a nice day...\\n8/18/19, 10:01 PM - Varun.Vardhaman: Good night sweet dreams 🧖\\u200d♀\\n8/18/19, 10:45 PM - Pes Pallavi: Good nyte🎊\\n8/24/19, 12:42 PM - Varun.Vardhaman: Hi\\n8/24/19, 12:48 PM - Pes Pallavi: Helloooo jiii\\n8/24/19, 12:48 PM - Varun.Vardhaman: Shweta call maadidla\\n8/24/19, 12:50 PM - Pes Pallavi: Huu\\n8/24/19, 12:50 PM - Varun.Vardhaman: Alla nanga maadidla ega\\n8/24/19, 12:50 PM - Varun.Vardhaman: Graduation day invite maadak\\n8/24/19, 12:54 PM - Varun.Vardhaman: Na blr valaga iddid helidi..?\\n8/24/19, 12:59 PM - Pes Pallavi: Noooo\\n8/24/19, 12:59 PM - Varun.Vardhaman: 👍 fine\\n8/24/19, 1:00 PM - Varun.Vardhaman: Barati blr gi..?\\n8/24/19, 1:03 PM - Pes Pallavi: Planning ra😁\\n8/24/19, 1:05 PM - Varun.Vardhaman: 👍 okay\\n8/24/19, 1:06 PM - Pes Pallavi: I need second copy of my Transfer Certificate ra...\\n8/24/19, 1:06 PM - Pes Pallavi: Kodthaarr yenn\\n8/24/19, 1:06 PM - Pes Pallavi: !?!\\n8/24/19, 1:06 PM - Pes Pallavi: In PES\\n8/24/19, 1:06 PM - Varun.Vardhaman: TC will be issued only once\\n8/24/19, 1:07 PM - Varun.Vardhaman: They may give the duplicate of the same copy..\\n8/24/19, 1:08 PM - Pes Pallavi: Yaa dat only ra\\n8/24/19, 1:08 PM - Pes Pallavi: Adha bekk\\n8/24/19, 1:13 PM - Varun.Vardhaman: But ada mostly ada carbon copy iratta..\\nCollege ge banda vicharsu..\\n8/24/19, 1:17 PM - Pes Pallavi: Okay\\n8/24/19, 1:19 PM - Varun.Vardhaman: Lost case itta andra\\n8/24/19, 1:19 PM - Varun.Vardhaman: I guess police complaint copy bekagatta..\\n8/24/19, 4:07 PM - Pes Pallavi: Ohhh ok\\n8/24/19, 10:57 PM - Varun.Vardhaman: Dp👌\\n8/24/19, 10:57 PM - Pes Pallavi: Thank you ra😁\\n8/25/19, 3:57 PM - Varun.Vardhaman: Hogi bandi..?\\n8/25/19, 4:30 PM - Pes Pallavi: Huu ra\\n8/25/19, 4:49 PM - Varun.Vardhaman: Keer condition henga ittu..?\\n8/25/19, 4:50 PM - Pes Pallavi: Worst\\n8/27/19, 9:06 PM - Varun.Vardhaman: Heyy\\n8/27/19, 9:06 PM - Varun.Vardhaman: I am sorrry\\n8/27/19, 9:06 PM - Varun.Vardhaman: Wish you many many many happy returns of the day..\\n8/27/19, 11:25 PM - Pes Pallavi: Huuu it's ok\\n8/27/19, 11:25 PM - Pes Pallavi: Thank you so much🙂\\n8/27/19, 11:26 PM - Varun.Vardhaman: Did not pick the call\\n8/27/19, 11:30 PM - Pes Pallavi: M angry on u\\n8/27/19, 11:39 PM - Varun.Vardhaman: I am sorry\\n8/27/19, 11:39 PM - Varun.Vardhaman: I was busy with the class\\n8/27/19, 11:41 PM - Pes Pallavi: Huuu\\n8/27/19, 11:41 PM - Varun.Vardhaman: So yen spcl evatta..?\\n8/28/19, 12:00 AM - Varun.Vardhaman: I could wish you the first atleast mine would be the last once again happy birthday\\n8/28/19, 12:23 AM - Pes Pallavi: Hahaha😁 Thanks alotttt ra🥰\\n8/28/19, 12:24 AM - Varun.Vardhaman: 😊\\n9/1/19, 11:26 AM - Varun.Vardhaman: Hi\\n9/1/19, 11:27 AM - Varun.Vardhaman: Did you call?\\n9/1/19, 12:06 PM - Pes Pallavi: Hello\\n9/1/19, 12:06 PM - Pes Pallavi: By mistake ra😋\\n9/1/19, 12:07 PM - Varun.Vardhaman: Okay..\\n9/1/19, 7:43 PM - Varun.Vardhaman: Dp🤘👌\\n9/1/19, 8:47 PM - Pes Pallavi: Thank you ra\\n9/2/19, 11:42 AM - Varun.Vardhaman: You deleted this message\\n9/2/19, 11:42 AM - Varun.Vardhaman: <Media omitted>\\n9/2/19, 11:47 AM - Pes Pallavi: <Media omitted>\\n9/4/19, 7:42 PM - Varun.Vardhaman: 7th sat we I'll go to gokak\\n9/4/19, 8:32 PM - Pes Pallavi: Okay👍🏻\\n9/4/19, 8:33 PM - Varun.Vardhaman: What time is better..?\\n9/4/19, 8:40 PM - Pes Pallavi: U say\\n9/4/19, 8:41 PM - Varun.Vardhaman: 11\\n9/4/19, 9:12 PM - Pes Pallavi: How to go\\n9/4/19, 9:12 PM - Varun.Vardhaman: You deleted this message\\n9/4/19, 9:13 PM - Varun.Vardhaman: Car\\n9/4/19, 9:22 PM - Pes Pallavi: Wer shud I cm\\n9/4/19, 9:22 PM - Pes Pallavi: Mudhol...!?!\\n9/4/19, 9:22 PM - Pes Pallavi: Lokapur...!?!\\n9/4/19, 9:22 PM - Varun.Vardhaman: Mudhol\\n9/4/19, 9:22 PM - Pes Pallavi: Done👍🏻\\n9/4/19, 9:23 PM - Varun.Vardhaman: We I'll go via mahalingapur\\n9/4/19, 9:23 PM - Pes Pallavi: Okay okay\\n9/4/19, 9:24 PM - Pes Pallavi: Wil go directly frm bus stand...\\n9/4/19, 9:24 PM - Pes Pallavi: U pick me up in mudhol bus stand\\n9/4/19, 9:24 PM - Varun.Vardhaman: Okay\\n9/4/19, 9:24 PM - Pes Pallavi: Nee yavag bidthii blore\\n9/4/19, 9:25 PM - Varun.Vardhaman: But why come to home..\\n9/4/19, 9:25 PM - Varun.Vardhaman: Friday\\n9/4/19, 9:25 PM - Pes Pallavi: Noo ra...\\n9/4/19, 9:25 PM - Pes Pallavi: Jaldii hogi jaldi barunu\\n9/4/19, 9:25 PM - Varun.Vardhaman: Yeah..\\n9/4/19, 9:26 PM - Pes Pallavi: Sunday Mani devriga hontivi early morning... Soo\\n9/4/19, 9:28 PM - Varun.Vardhaman: 👍\\n9/4/19, 9:28 PM - Pes Pallavi: Dinner....!?!\\n9/4/19, 9:29 PM - Varun.Vardhaman: Just had wat Abt you..?\\n9/4/19, 9:30 PM - Pes Pallavi: Had😋\\n9/4/19, 9:37 PM - Varun.Vardhaman: We I'll stay around 45 min there\\n9/5/19, 8:13 AM - Pes Pallavi: Okay as u say👍🏻☺\\n9/5/19, 8:39 AM - Varun.Vardhaman: 👍\\n9/5/19, 10:12 PM - Varun.Vardhaman: Pallavi\\n9/5/19, 10:12 PM - Varun.Vardhaman: Plan cancel\\n9/5/19, 10:13 PM - Varun.Vardhaman: Pappaga urgent kelasa banta avara vododara Gujrat ga  hontara so bnegaluru gi Banda hogtara\\n9/5/19, 10:14 PM - Varun.Vardhaman: I am not coming on sat\\n9/5/19, 10:16 PM - Pes Pallavi: Ohhh ok ok\\n9/8/19, 11:01 AM - Pes Pallavi: Convey my wishes💐🎊💐🎊\\n9/8/19, 11:01 AM - Varun.Vardhaman: Thank you\\n9/8/19, 11:31 AM - Pes Pallavi: 👍🏻😊\\n\""
      ]
     },
     "execution_count": 21,
     "metadata": {},
     "output_type": "execute_result"
    }
   ],
   "source": [
    "x"
   ]
  },
  {
   "cell_type": "code",
   "execution_count": 22,
   "metadata": {},
   "outputs": [],
   "source": [
    "df=rawToDf('pallavi_chat.txt')"
   ]
  },
  {
   "cell_type": "code",
   "execution_count": 23,
   "metadata": {},
   "outputs": [],
   "source": [
    "pd.options.display.max_colwidth=10000"
   ]
  },
  {
   "cell_type": "code",
   "execution_count": 24,
   "metadata": {},
   "outputs": [
    {
     "data": {
      "text/html": [
       "<div>\n",
       "<style scoped>\n",
       "    .dataframe tbody tr th:only-of-type {\n",
       "        vertical-align: middle;\n",
       "    }\n",
       "\n",
       "    .dataframe tbody tr th {\n",
       "        vertical-align: top;\n",
       "    }\n",
       "\n",
       "    .dataframe thead th {\n",
       "        text-align: right;\n",
       "    }\n",
       "</style>\n",
       "<table border=\"1\" class=\"dataframe\">\n",
       "  <thead>\n",
       "    <tr style=\"text-align: right;\">\n",
       "      <th></th>\n",
       "      <th>date_time</th>\n",
       "      <th>user</th>\n",
       "      <th>msg</th>\n",
       "    </tr>\n",
       "  </thead>\n",
       "  <tbody>\n",
       "    <tr>\n",
       "      <th>0</th>\n",
       "      <td>2018-10-07 17:44:00</td>\n",
       "      <td>Pes Pallavi</td>\n",
       "      <td>😫😫😫😫😫</td>\n",
       "    </tr>\n",
       "    <tr>\n",
       "      <th>1</th>\n",
       "      <td>2018-10-07 20:24:00</td>\n",
       "      <td>Pes Pallavi</td>\n",
       "      <td>Happy journey😊</td>\n",
       "    </tr>\n",
       "    <tr>\n",
       "      <th>2</th>\n",
       "      <td>2018-10-07 20:25:00</td>\n",
       "      <td>Varun.Vardhaman</td>\n",
       "      <td>😊</td>\n",
       "    </tr>\n",
       "    <tr>\n",
       "      <th>3</th>\n",
       "      <td>2018-10-07 20:25:00</td>\n",
       "      <td>Varun.Vardhaman</td>\n",
       "      <td>Yen madatiri ?</td>\n",
       "    </tr>\n",
       "    <tr>\n",
       "      <th>4</th>\n",
       "      <td>2018-10-07 20:26:00</td>\n",
       "      <td>Pes Pallavi</td>\n",
       "      <td>Watching tv ra</td>\n",
       "    </tr>\n",
       "  </tbody>\n",
       "</table>\n",
       "</div>"
      ],
      "text/plain": [
       "            date_time             user              msg\n",
       "0 2018-10-07 17:44:00      Pes Pallavi           😫😫😫😫😫 \n",
       "1 2018-10-07 20:24:00      Pes Pallavi  Happy journey😊 \n",
       "2 2018-10-07 20:25:00  Varun.Vardhaman               😊 \n",
       "3 2018-10-07 20:25:00  Varun.Vardhaman  Yen madatiri ? \n",
       "4 2018-10-07 20:26:00      Pes Pallavi  Watching tv ra "
      ]
     },
     "execution_count": 24,
     "metadata": {},
     "output_type": "execute_result"
    }
   ],
   "source": [
    "df.head()"
   ]
  },
  {
   "cell_type": "code",
   "execution_count": 25,
   "metadata": {},
   "outputs": [
    {
     "data": {
      "text/plain": [
       "(1959, 3)"
      ]
     },
     "execution_count": 25,
     "metadata": {},
     "output_type": "execute_result"
    }
   ],
   "source": [
    "df.shape"
   ]
  },
  {
   "cell_type": "markdown",
   "metadata": {},
   "source": [
    "# who is more active"
   ]
  },
  {
   "cell_type": "code",
   "execution_count": 26,
   "metadata": {},
   "outputs": [
    {
     "data": {
      "text/html": [
       "<div>\n",
       "<style scoped>\n",
       "    .dataframe tbody tr th:only-of-type {\n",
       "        vertical-align: middle;\n",
       "    }\n",
       "\n",
       "    .dataframe tbody tr th {\n",
       "        vertical-align: top;\n",
       "    }\n",
       "\n",
       "    .dataframe thead th {\n",
       "        text-align: right;\n",
       "    }\n",
       "</style>\n",
       "<table border=\"1\" class=\"dataframe\">\n",
       "  <thead>\n",
       "    <tr style=\"text-align: right;\">\n",
       "      <th></th>\n",
       "      <th>msg</th>\n",
       "    </tr>\n",
       "    <tr>\n",
       "      <th>user</th>\n",
       "      <th></th>\n",
       "    </tr>\n",
       "  </thead>\n",
       "  <tbody>\n",
       "    <tr>\n",
       "      <th>Varun.Vardhaman</th>\n",
       "      <td>995</td>\n",
       "    </tr>\n",
       "    <tr>\n",
       "      <th>Pes Pallavi</th>\n",
       "      <td>964</td>\n",
       "    </tr>\n",
       "  </tbody>\n",
       "</table>\n",
       "</div>"
      ],
      "text/plain": [
       "                 msg\n",
       "user                \n",
       "Varun.Vardhaman  995\n",
       "Pes Pallavi      964"
      ]
     },
     "execution_count": 26,
     "metadata": {},
     "output_type": "execute_result"
    }
   ],
   "source": [
    "df.groupby(['user'])[['msg']].count().sort_values('msg',ascending=False)"
   ]
  },
  {
   "cell_type": "markdown",
   "metadata": {},
   "source": [
    "# who is more active on week ends"
   ]
  },
  {
   "cell_type": "code",
   "execution_count": 27,
   "metadata": {},
   "outputs": [
    {
     "data": {
      "text/plain": [
       "Varun.Vardhaman    280\n",
       "Pes Pallavi        266\n",
       "Name: user, dtype: int64"
      ]
     },
     "execution_count": 27,
     "metadata": {},
     "output_type": "execute_result"
    }
   ],
   "source": [
    "df['weekday']=df['date_time'].apply(lambda x: x.day_name())\n",
    "x=df['weekday'].isin(['Sunday','Saturday'])\n",
    "y=df[x]\n",
    "y['user'].value_counts()"
   ]
  },
  {
   "cell_type": "markdown",
   "metadata": {},
   "source": [
    "# no of images/videos"
   ]
  },
  {
   "cell_type": "code",
   "execution_count": 28,
   "metadata": {},
   "outputs": [
    {
     "data": {
      "text/plain": [
       "Varun.Vardhaman    73\n",
       "Pes Pallavi        56\n",
       "Name: user, dtype: int64"
      ]
     },
     "execution_count": 28,
     "metadata": {},
     "output_type": "execute_result"
    }
   ],
   "source": [
    "media=df[df['msg']=='<Media omitted> ']\n",
    "media['user'].value_counts()\n",
    "\n"
   ]
  },
  {
   "cell_type": "markdown",
   "metadata": {},
   "source": [
    "# which day we chatted most"
   ]
  },
  {
   "cell_type": "code",
   "execution_count": 29,
   "metadata": {},
   "outputs": [
    {
     "data": {
      "text/plain": [
       "Friday       426\n",
       "Sunday       316\n",
       "Monday       295\n",
       "Tuesday      263\n",
       "Saturday     230\n",
       "Wednesday    229\n",
       "Thursday     200\n",
       "Name: weekday, dtype: int64"
      ]
     },
     "execution_count": 29,
     "metadata": {},
     "output_type": "execute_result"
    }
   ],
   "source": [
    "df.weekday.value_counts(sort=True)\n",
    "#we chated more on friday"
   ]
  },
  {
   "cell_type": "markdown",
   "metadata": {},
   "source": [
    "# which emoji I( vardhaman) used the most"
   ]
  },
  {
   "cell_type": "code",
   "execution_count": 30,
   "metadata": {},
   "outputs": [],
   "source": [
    "emoji_ctr_var = Counter()\n",
    "emojis_list = map(lambda x: ''.join(x.split()), emoji.UNICODE_EMOJI.keys())\n",
    "r = re.compile('|'.join(re.escape(p) for p in emojis_list))\n",
    "for idx, row in df.iterrows():\n",
    "    if row[\"user\"] == 'Varun.Vardhaman':\n",
    "        emojis_found = r.findall(row[\"msg\"])\n",
    "        for emoji_found in emojis_found:\n",
    "            emoji_ctr_var[emoji_found] += 1"
   ]
  },
  {
   "cell_type": "code",
   "execution_count": 31,
   "metadata": {},
   "outputs": [
    {
     "name": "stdout",
     "output_type": "stream",
     "text": [
      "😊 - 31\n",
      "👍 - 23\n",
      "😀 - 19\n",
      "♂ - 14\n",
      "🤦 - 13\n",
      "🙄 - 6\n",
      "🤨 - 3\n",
      "😕 - 3\n",
      "🥳 - 3\n",
      "😓 - 3\n"
     ]
    }
   ],
   "source": [
    "for item in emoji_ctr_var.most_common(10):\n",
    "    print(item[0] + \" - \" + str(item[1]))\n",
    "    "
   ]
  },
  {
   "cell_type": "markdown",
   "metadata": {},
   "source": [
    "# which emoji you(pallavi) used the most"
   ]
  },
  {
   "cell_type": "code",
   "execution_count": 32,
   "metadata": {},
   "outputs": [],
   "source": [
    "emoji_ctr_pal = Counter()\n",
    "emojis_list = map(lambda x: ''.join(x.split()), emoji.UNICODE_EMOJI.keys())\n",
    "r = re.compile('|'.join(re.escape(p) for p in emojis_list))\n",
    "for idx, row in df.iterrows():\n",
    "    if row[\"user\"] == 'Pes Pallavi':\n",
    "        emojis_found = r.findall(row[\"msg\"])\n",
    "        for emoji_found in emojis_found:\n",
    "            emoji_ctr_pal[emoji_found] += 1"
   ]
  },
  {
   "cell_type": "code",
   "execution_count": 33,
   "metadata": {},
   "outputs": [
    {
     "name": "stdout",
     "output_type": "stream",
     "text": [
      "🏻 - 50\n",
      "👍 - 35\n",
      "🎊 - 33\n",
      "😊 - 29\n",
      "😁 - 27\n",
      "🤦 - 18\n",
      "♀ - 18\n",
      "🏼 - 15\n",
      "😫 - 11\n",
      "😋 - 9\n",
      "🤭 - 8\n",
      "👌 - 7\n",
      "🎉 - 7\n",
      "😂 - 6\n",
      "😭 - 6\n",
      "☺ - 6\n",
      "😕 - 5\n",
      "🤣 - 5\n",
      "😬 - 4\n",
      "😴 - 4\n",
      "🙄 - 4\n",
      "🙂 - 3\n",
      "🤩 - 3\n",
      "😱 - 2\n",
      "😓 - 2\n",
      "✌ - 2\n",
      "💐 - 2\n",
      "☀ - 1\n",
      "🙁 - 1\n",
      "😠 - 1\n",
      "💃 - 1\n",
      "🎈 - 1\n",
      "🎁 - 1\n",
      "🎂 - 1\n",
      "✨ - 1\n",
      "😉 - 1\n",
      "💯 - 1\n",
      "🤞 - 1\n",
      "😎 - 1\n",
      "🥴 - 1\n",
      "🤟 - 1\n",
      "😳 - 1\n",
      "🥰 - 1\n"
     ]
    }
   ],
   "source": [
    "for item in emoji_ctr_pal.most_common():\n",
    "    print(item[0] + \" - \" + str(item[1]))"
   ]
  },
  {
   "cell_type": "markdown",
   "metadata": {},
   "source": [
    "# who used the emojis most"
   ]
  },
  {
   "cell_type": "code",
   "execution_count": 35,
   "metadata": {},
   "outputs": [
    {
     "name": "stdout",
     "output_type": "stream",
     "text": [
      "vardhaman used 138 emojis\n",
      "pallavi used 337 emojis\n"
     ]
    }
   ],
   "source": [
    "vardhaman=[]\n",
    "for item in emoji_ctr_var.most_common():\n",
    "    vardhaman.append(item[1])\n",
    "print('vardhaman used',np.sum(vardhaman),'emojis')\n",
    "      \n",
    "pallavi=[]\n",
    "for item in emoji_ctr_pal.most_common():\n",
    "      pallavi.append(item[1])\n",
    "print('pallavi used',np.sum(pallavi),'emojis')"
   ]
  },
  {
   "cell_type": "markdown",
   "metadata": {},
   "source": [
    "# when did we chat the most "
   ]
  },
  {
   "cell_type": "code",
   "execution_count": 39,
   "metadata": {},
   "outputs": [
    {
     "data": {
      "text/plain": [
       "<matplotlib.axes._subplots.AxesSubplot at 0x1abad1b3f28>"
      ]
     },
     "execution_count": 39,
     "metadata": {},
     "output_type": "execute_result"
    },
    {
     "data": {
      "image/png": "[encoded data removed]",
      "text/plain": [
       "<Figure size 432x288 with 1 Axes>"
      ]
     },
     "metadata": {
      "needs_background": "light"
     },
     "output_type": "display_data"
    }
   ],
   "source": [
    "def to_hour(val):\n",
    "    return val.hour\n",
    "\n",
    "df['hour'] = df['date_time'].apply(to_hour)\n",
    "df[df['user']=='Varun.Vardhaman'].groupby(['hour']).size().sort_index().plot(x=\"hour\", kind='bar')"
   ]
  },
  {
   "cell_type": "markdown",
   "metadata": {},
   "source": [
    "# hey we chated more during 11pm to 12pm 😂 "
   ]
  },
  {
   "cell_type": "markdown",
   "metadata": {},
   "source": [
    "#  \n",
    "#  \n",
    "#   \n"
   ]
  },
  {
   "cell_type": "code",
   "execution_count": null,
   "metadata": {},
   "outputs": [],
   "source": []
  }
 ],
 "metadata": {
  "kernelspec": {
   "display_name": "Python 3",
   "language": "python",
   "name": "python3"
  },
  "language_info": {
   "codemirror_mode": {
    "name": "ipython",
    "version": 3
   },
   "file_extension": ".py",
   "mimetype": "text/x-python",
   "name": "python",
   "nbconvert_exporter": "python",
   "pygments_lexer": "ipython3",
   "version": "3.7.6"
  }
 },
 "nbformat": 4,
 "nbformat_minor": 2
}
